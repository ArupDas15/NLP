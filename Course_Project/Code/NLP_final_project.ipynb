{
  "nbformat": 4,
  "nbformat_minor": 0,
  "metadata": {
    "colab": {
      "name": "NLP_final_project.ipynb",
      "provenance": [],
      "collapsed_sections": []
    },
    "kernelspec": {
      "name": "python3",
      "display_name": "Python 3"
    },
    "language_info": {
      "name": "python"
    },
    "accelerator": "GPU"
  },
  "cells": [
    {
      "cell_type": "code",
      "metadata": {
        "id": "OMN_VWheumkw"
      },
      "source": [
        "#from google.colab import drive\n",
        "#drive.mount('/content/drive')"
      ],
      "execution_count": 1,
      "outputs": []
    },
    {
      "cell_type": "code",
      "metadata": {
        "id": "yxggxzbjg8Yz",
        "colab": {
          "base_uri": "https://localhost:8080/"
        },
        "outputId": "beda4bd2-b2eb-44d9-942b-99031edcd286"
      },
      "source": [
        "#!unzip /content/drive/MyDrive/Datasets/cranfield.zip\n",
        "!unzip /content/cranfield.zip"
      ],
      "execution_count": 2,
      "outputs": [
        {
          "output_type": "stream",
          "text": [
            "Archive:  /content/cranfield.zip\n",
            "  inflating: cranfield/cran_docs.json  \n",
            "  inflating: cranfield/cran_qrels.json  \n",
            "  inflating: cranfield/cran_queries.json  \n",
            "  inflating: cranfield/README.txt    \n"
          ],
          "name": "stdout"
        }
      ]
    },
    {
      "cell_type": "code",
      "metadata": {
        "id": "EWHnODNl79Pw",
        "colab": {
          "base_uri": "https://localhost:8080/"
        },
        "outputId": "7ee22db0-7b87-43bc-9d26-6a7d37822c42"
      },
      "source": [
        "!pip install rank_bm25"
      ],
      "execution_count": 3,
      "outputs": [
        {
          "output_type": "stream",
          "text": [
            "Collecting rank_bm25\n",
            "  Downloading https://files.pythonhosted.org/packages/16/5a/23ed3132063a0684ea66fb410260c71c4ffda3b99f8f1c021d1e245401b5/rank_bm25-0.2.1-py3-none-any.whl\n",
            "Requirement already satisfied: numpy in /usr/local/lib/python3.7/dist-packages (from rank_bm25) (1.19.5)\n",
            "Installing collected packages: rank-bm25\n",
            "Successfully installed rank-bm25-0.2.1\n"
          ],
          "name": "stdout"
        }
      ]
    },
    {
      "cell_type": "code",
      "metadata": {
        "colab": {
          "base_uri": "https://localhost:8080/"
        },
        "id": "GTu-YRq0fw9z",
        "cellView": "form",
        "outputId": "07fb435c-ab32-4dea-8c6d-2f7439ed109a"
      },
      "source": [
        "#@title Python libraries used in the project\n",
        "import sklearn\n",
        "from sklearn.feature_extraction.text import TfidfVectorizer\n",
        "from sklearn.decomposition import TruncatedSVD\n",
        "from sklearn.pipeline import Pipeline\n",
        "import numpy as np\n",
        "from nltk.tokenize import word_tokenize\n",
        "import string\n",
        "import nltk\n",
        "from nltk.corpus import stopwords\n",
        "from nltk.stem.porter import PorterStemmer\n",
        "import json\n",
        "from rank_bm25 import BM25Okapi\n",
        "nltk.download('punkt')\n",
        "nltk.download('stopwords')\n",
        "nltk.download('wordnet')\n"
      ],
      "execution_count": 4,
      "outputs": [
        {
          "output_type": "stream",
          "text": [
            "[nltk_data] Downloading package punkt to /root/nltk_data...\n",
            "[nltk_data]   Unzipping tokenizers/punkt.zip.\n",
            "[nltk_data] Downloading package stopwords to /root/nltk_data...\n",
            "[nltk_data]   Unzipping corpora/stopwords.zip.\n",
            "[nltk_data] Downloading package wordnet to /root/nltk_data...\n",
            "[nltk_data]   Unzipping corpora/wordnet.zip.\n"
          ],
          "name": "stdout"
        },
        {
          "output_type": "execute_result",
          "data": {
            "text/plain": [
              "True"
            ]
          },
          "metadata": {
            "tags": []
          },
          "execution_count": 4
        }
      ]
    },
    {
      "cell_type": "code",
      "metadata": {
        "id": "UndOvWhNf6Ue",
        "cellView": "form"
      },
      "source": [
        "#@title Code for data preprocessing\n",
        "def data_preprocess(doc):\n",
        "  tokens = word_tokenize(doc)\n",
        "  # convert to lower case \n",
        "  tokens = [w.lower() for w in tokens]\n",
        "  # remove punctuation from each word\n",
        "  table = str.maketrans('', '', string.punctuation)\n",
        "  stripped = [w.translate(table) for w in tokens]\n",
        "  # remove remaining tokens that are not alphabetic\n",
        "  words = [word for word in stripped if word.isalpha()]\n",
        "  # filter out stop words\n",
        "  stop_words = set(stopwords.words('english'))\n",
        "  words = [w for w in words if not w in stop_words]\n",
        "  # stemming of words\n",
        "  porter = PorterStemmer()\n",
        "  stemmed = [porter.stem(word) for word in words]\n",
        "  return stemmed"
      ],
      "execution_count": 5,
      "outputs": []
    },
    {
      "cell_type": "code",
      "metadata": {
        "id": "lPynd7wLhHuX"
      },
      "source": [
        "#@title Code for evaluation\n",
        "import math\n",
        "import os\n",
        "\n",
        "# Add your import statements here\n",
        "from collections import defaultdict\n",
        "\n",
        "\n",
        "\n",
        "class Evaluation():\n",
        "    def __init__(self):\n",
        "      self.qr=None #This dictionary holds the list of relevant documents for a particular query\n",
        "    def build_qr(self,q_rels):\n",
        "      #This function populates the self.qr dictionary which has relevant document lists as values and\n",
        "      #query ids as keys of the dictionary\n",
        "      qr = defaultdict(list)\n",
        "      for dc in q_rels:\n",
        "        qr[int(dc['query_num'])].append(int(dc['id']))\n",
        "      self.qr=qr\n",
        "    def get_docid(self,query_id,qrels):\n",
        "      result = list(filter(lambda query: query['query_num'] == str(query_id), qrels))\n",
        "      doc_id = []\n",
        "      for d in result:\n",
        "        for k, v in d.items():\n",
        "          if k == \"id\":\n",
        "            doc_id.append(v)\n",
        "      return doc_id\n",
        "\n",
        "    def get_rel_score(self, query_id,element, qrels):\n",
        "      result = list(filter(lambda query: query['query_num'] == str(query_id), qrels))\n",
        "      doc_id = []\n",
        "      rel_score = []\n",
        "      for d in result:\n",
        "        for k, v in d.items():\n",
        "          if k == \"id\":\n",
        "            doc_id.append(v)\n",
        "          if k == \"position\":\n",
        "            # Measuring the relevance score in a scale of 0-3 where integer with higher value has greater relevance\n",
        "            rel_score.append(4-int(v))\n",
        "\n",
        "      relavant_score = rel_score[doc_id.index(element)]\n",
        "      return relavant_score\n",
        "\n",
        "    def queryPrecision(self, query_doc_IDs_ordered, query_id, true_doc_IDs, k):\n",
        "      \"\"\"\n",
        "      Computation of precision of the Information Retrieval System\n",
        "      at a given value of k for a single query\n",
        "\n",
        "      Parameters\n",
        "      ----------\n",
        "      arg1 : list\n",
        "        A list of integers denoting the IDs of documents in\n",
        "        their predicted order of relevance to a query\n",
        "      arg2 : int\n",
        "        The ID of the query in question\n",
        "      arg3 : list\n",
        "        The list of IDs of documents relevant to the query (ground truth)\n",
        "      arg4 : int\n",
        "        The k value\n",
        "\n",
        "      Returns\n",
        "      -------\n",
        "      float\n",
        "        The precision value as a number between 0 and 1\n",
        "      \"\"\"\n",
        "\n",
        "      precision = 0\n",
        "\n",
        "      #Fill in code here\n",
        "      count = 1\n",
        "      for element in query_doc_IDs_ordered:\n",
        "        # Find the number of relevant documents in top k results\n",
        "        if count <= k:\n",
        "          # if the document is present in the relevant document list then increment precision count by 1.\n",
        "          if str(element) in true_doc_IDs:\n",
        "            precision = precision + 1\n",
        "        count = count + 1\n",
        "      if k== 0:\n",
        "        precision = 1\n",
        "      else:\n",
        "        # Dividing precision by number of documents retrieved at rank 'k'\n",
        "        precision = precision / k\n",
        "\n",
        "      return precision\n",
        "\n",
        "\n",
        "    def meanPrecision(self, doc_IDs_ordered, query_ids, qrels, k):\n",
        "      \"\"\"\n",
        "      Computation of precision of the Information Retrieval System\n",
        "      at a given value of k, averaged over all the queries\n",
        "\n",
        "      Parameters\n",
        "      ----------\n",
        "      arg1 : list\n",
        "        A list of lists of integers where the ith sub-list is a list of IDs\n",
        "        of documents in their predicted order of relevance to the ith query\n",
        "      arg2 : list\n",
        "        A list of IDs of the queries for which the documents are ordered\n",
        "      arg3 : list\n",
        "        A list of dictionaries containing document-relevance\n",
        "        judgements - Refer cran_qrels.json for the structure of each\n",
        "        dictionary\n",
        "      arg4 : int\n",
        "        The k value\n",
        "\n",
        "      Returns\n",
        "      -------\n",
        "      float\n",
        "        The mean precision value as a number between 0 and 1\n",
        "      \"\"\"\n",
        "\n",
        "      meanPrecision = -1\n",
        "\n",
        "      #Fill in code here\n",
        "      n = 0\n",
        "      sum = 0\n",
        "      for l in doc_IDs_ordered:\n",
        "        if n==len(query_ids):break\n",
        "        doc_id = self.get_docid(query_ids[n], qrels)\n",
        "        sum = sum + self.queryPrecision(l, query_ids[n], doc_id, k)\n",
        "        n = n + 1\n",
        "      if len(doc_IDs_ordered) == 0:\n",
        "        meanPrecision = 1\n",
        "      else:\n",
        "        # Finding the average of all precision values corresponding to different queries\n",
        "        meanPrecision = sum / len(doc_IDs_ordered)\n",
        "      return meanPrecision\n",
        "\n",
        "\n",
        "    def queryRecall(self, query_doc_IDs_ordered, query_id, true_doc_IDs, k):\n",
        "      \"\"\"\n",
        "      Computation of recall of the Information Retrieval System\n",
        "      at a given value of k for a single query\n",
        "\n",
        "      Parameters\n",
        "      ----------\n",
        "      arg1 : list\n",
        "        A list of integers denoting the IDs of documents in\n",
        "        their predicted order of relevance to a query\n",
        "      arg2 : int\n",
        "        The ID of the query in question\n",
        "      arg3 : list\n",
        "        The list of IDs of documents relevant to the query (ground truth)\n",
        "      arg4 : int\n",
        "        The k value\n",
        "\n",
        "      Returns\n",
        "      -------\n",
        "      float\n",
        "        The recall value as a number between 0 and 1\n",
        "      \"\"\"\n",
        "\n",
        "      recall = 0\n",
        "\n",
        "      #Fill in code here\n",
        "      count = 1\n",
        "      for element in query_doc_IDs_ordered:\n",
        "        # Find the number of relevant documents in top k results\n",
        "        if count <= k:\n",
        "          # if the document is present in the relevant document list then increment recall count by 1.\n",
        "          if str(element) in true_doc_IDs:\n",
        "            recall = recall + 1\n",
        "        count = count + 1\n",
        "      if len(true_doc_IDs) == 0:\n",
        "        recall = 1\n",
        "      else:\n",
        "        # Dividing recall by number of relevant documents\n",
        "        recall = recall / len(true_doc_IDs)\n",
        "\n",
        "      return recall\n",
        "\n",
        "\n",
        "    def meanRecall(self, doc_IDs_ordered, query_ids, qrels, k):\n",
        "      \"\"\"\n",
        "      Computation of recall of the Information Retrieval System\n",
        "      at a given value of k, averaged over all the queries\n",
        "\n",
        "      Parameters\n",
        "      ----------\n",
        "      arg1 : list\n",
        "        A list of lists of integers where the ith sub-list is a list of IDs\n",
        "        of documents in their predicted order of relevance to the ith query\n",
        "      arg2 : list\n",
        "        A list of IDs of the queries for which the documents are ordered\n",
        "      arg3 : list\n",
        "        A list of dictionaries containing document-relevance\n",
        "        judgements - Refer cran_qrels.json for the structure of each\n",
        "        dictionary\n",
        "      arg4 : int\n",
        "        The k value\n",
        "\n",
        "      Returns\n",
        "      -------\n",
        "      float\n",
        "        The mean recall value as a number between 0 and 1\n",
        "      \"\"\"\n",
        "\n",
        "      meanRecall = -1\n",
        "\n",
        "      #Fill in code here\n",
        "      n = 0\n",
        "      sum = 0\n",
        "      for l in doc_IDs_ordered:\n",
        "        if n==len(query_ids):break\n",
        "        doc_id = self.get_docid(query_ids[n], qrels)\n",
        "        sum = sum + self.queryRecall(l,query_ids[n],doc_id,k)\n",
        "        n = n + 1\n",
        "      if len(doc_IDs_ordered) == 0:\n",
        "        meanRecall = 1\n",
        "      else:\n",
        "        # Finding the average of all recall values corresponding to different queries\n",
        "        meanRecall = sum / len(doc_IDs_ordered)\n",
        "      return meanRecall\n",
        "\n",
        "    def queryFscore(self, query_doc_IDs_ordered, query_id, true_doc_IDs, k):\n",
        "      \"\"\"\n",
        "      Computation of fscore of the Information Retrieval System\n",
        "      at a given value of k for a single query\n",
        "\n",
        "      Parameters\n",
        "      ----------\n",
        "      arg1 : list\n",
        "        A list of integers denoting the IDs of documents in\n",
        "        their predicted order of relevance to a query\n",
        "      arg2 : int\n",
        "        The ID of the query in question\n",
        "      arg3 : list\n",
        "        The list of IDs of documents relevant to the query (ground truth)\n",
        "      arg4 : int\n",
        "        The k value\n",
        "\n",
        "      Returns\n",
        "      -------\n",
        "      float\n",
        "        The fscore value as a number between 0 and 1\n",
        "      \"\"\"\n",
        "\n",
        "      fscore = -1\n",
        "\n",
        "      #Fill in code here\n",
        "      precision = self.queryPrecision(query_doc_IDs_ordered, query_id, true_doc_IDs, k)\n",
        "      recall = self.queryRecall(query_doc_IDs_ordered, query_id, true_doc_IDs, k)\n",
        "      # This will happen when there are no relevant documents in top k results\n",
        "      if precision + recall == 0:\n",
        "        fscore = 0\n",
        "      else:\n",
        "        fscore = (2 * precision * recall) / (precision + recall)\n",
        "\n",
        "      return fscore\n",
        "\n",
        "    def meanFscore(self, doc_IDs_ordered, query_ids, qrels, k):\n",
        "      \"\"\"\n",
        "      Computation of fscore of the Information Retrieval System\n",
        "      at a given value of k, averaged over all the queries\n",
        "\n",
        "      Parameters\n",
        "      ----------\n",
        "      arg1 : list\n",
        "        A list of lists of integers where the ith sub-list is a list of IDs\n",
        "        of documents in their predicted order of relevance to the ith query\n",
        "      arg2 : list\n",
        "        A list of IDs of the queries for which the documents are ordered\n",
        "      arg3 : list\n",
        "        A list of dictionaries containing document-relevance\n",
        "        judgements - Refer cran_qrels.json for the structure of each\n",
        "        dictionary\n",
        "      arg4 : int\n",
        "        The k value\n",
        "\n",
        "      Returns\n",
        "      -------\n",
        "      float\n",
        "        The mean fscore value as a number between 0 and 1\n",
        "      \"\"\"\n",
        "\n",
        "      meanFscore = -1\n",
        "\n",
        "      # Fill in code here\n",
        "      n = 0\n",
        "      sum = 0\n",
        "      for l in doc_IDs_ordered:\n",
        "        if n==len(query_ids):break\n",
        "        doc_id = self.get_docid(query_ids[n], qrels)\n",
        "        sum = sum + self.queryFscore(l, query_ids[n], doc_id, k)\n",
        "        n = n + 1\n",
        "      # Finding the average of all fscore values corresponding to different queries\n",
        "      meanFscore = sum / len(doc_IDs_ordered)\n",
        "      return meanFscore\n",
        "\n",
        "\n",
        "    def queryNDCG(self, query_doc_IDs_ordered, query_id, true_doc_IDs, k):\n",
        "      \"\"\"\n",
        "      Computation of nDCG of the Information Retrieval System\n",
        "      at given value of k for a single query\n",
        "\n",
        "      Parameters\n",
        "      ----------\n",
        "      arg1 : list\n",
        "        A list of integers denoting the IDs of documents in\n",
        "        their predicted order of relevance to a query\n",
        "      arg2 : int\n",
        "        The ID of the query in question\n",
        "      arg3 : list\n",
        "        The list of IDs of documents relevant to the query (ground truth)\n",
        "      arg4 : int\n",
        "        The k value\n",
        "\n",
        "      Returns\n",
        "      -------\n",
        "      float\n",
        "        The nDCG value as a number between 0 and 1\n",
        "      \"\"\"\n",
        "\n",
        "      nDCG = -1\n",
        "\n",
        "      #Fill in code here\n",
        "      DCG = 0\n",
        "      IDCG = 0\n",
        "      #path=os.path.join(os.getcwd(),\"cranfield\",\"cran_qrels.json\")\n",
        "      qrels = json.load(open('/content/cranfield/cran_qrels.json', 'r'))[:]\n",
        "      count = 1\n",
        "      for element in query_doc_IDs_ordered:\n",
        "        if count <= k:\n",
        "          if str(element) in true_doc_IDs:\n",
        "            DCG = DCG + (self.get_rel_score(query_id, str(element), qrels) / math.log2(query_doc_IDs_ordered.index(element) + 2))\n",
        "          count = count + 1\n",
        "      count = 1\n",
        "      for element in true_doc_IDs:\n",
        "        if count <= k:\n",
        "          IDCG = IDCG + (self.get_rel_score(query_id,element,qrels) / math.log2(count + 1))\n",
        "          count = count + 1\n",
        "      # When there are no documents in the ideally relevant to the query then there are no documents to display.\n",
        "      # Thus the relevance score is 1.\n",
        "      if IDCG == 0:\n",
        "        IDCG = 1\n",
        "      nDCG = DCG / IDCG\n",
        "      return nDCG\n",
        "\n",
        "\n",
        "    def meanNDCG(self, doc_IDs_ordered, query_ids, qrels, k):\n",
        "      \"\"\"\n",
        "      Computation of nDCG of the Information Retrieval System\n",
        "      at a given value of k, averaged over all the queries\n",
        "\n",
        "      Parameters\n",
        "      ----------\n",
        "      arg1 : list\n",
        "        A list of lists of integers where the ith sub-list is a list of IDs\n",
        "        of documents in their predicted order of relevance to the ith query\n",
        "      arg2 : list\n",
        "        A list of IDs of the queries for which the documents are ordered\n",
        "      arg3 : list\n",
        "        A list of dictionaries containing document-relevance\n",
        "        judgements - Refer cran_qrels.json for the structure of each\n",
        "        dictionary\n",
        "      arg4 : int\n",
        "        The k value\n",
        "\n",
        "      Returns\n",
        "      -------\n",
        "      float\n",
        "        The mean nDCG value as a number between 0 and 1\n",
        "      \"\"\"\n",
        "\n",
        "      meanNDCG = -1\n",
        "\n",
        "      #Fill in code here\n",
        "      n = 0\n",
        "      sum = 0\n",
        "      for l in doc_IDs_ordered:\n",
        "        if n==len(query_ids): break\n",
        "        true_doc_IDs = self.get_docid(query_ids[n], qrels)\n",
        "        nDCG=self.queryNDCG(l, query_ids[n], true_doc_IDs, k)\n",
        "        sum = sum + nDCG\n",
        "        n = n + 1\n",
        "      # Finding the average of all nDCG values corresponding to different queries\n",
        "      meanNDCG = sum/len(doc_IDs_ordered)\n",
        "      return meanNDCG\n",
        "\n",
        "\n",
        "    def queryAveragePrecision(self, query_doc_IDs_ordered, query_id, true_doc_IDs, k):\n",
        "      \"\"\"\n",
        "      Computation of average precision of the Information Retrieval System\n",
        "      at a given value of k for a single query (the average of precision@i\n",
        "      values for i such that the ith document is truly relevant)\n",
        "\n",
        "      Parameters\n",
        "      ----------\n",
        "      arg1 : list\n",
        "        A list of integers denoting the IDs of documents in\n",
        "        their predicted order of relevance to a query\n",
        "      arg2 : int\n",
        "        The ID of the query in question\n",
        "      arg3 : list\n",
        "        The list of documents relevant to the query (ground truth)\n",
        "      arg4 : int\n",
        "        The k value\n",
        "\n",
        "      Returns\n",
        "      -------\n",
        "      float\n",
        "        The average precision value as a number between 0 and 1\n",
        "      \"\"\"\n",
        "\n",
        "      avgPrecision = -1\n",
        "\n",
        "      #Fill in code here\n",
        "      pdl=query_doc_IDs_ordered\n",
        "      rdl=true_doc_IDs\n",
        "      for j in range(len(pdl)):\n",
        "        if pdl[j] in rdl:\n",
        "          pdl[j] = 1\n",
        "        else:\n",
        "          pdl[j] = 0\n",
        "      ap = 0\n",
        "      for j in range(len(pdl)):\n",
        "        ap += (sum(pdl[:(j + 1)]) * 1.0 / (j + 1))\n",
        "      ap /= len(pdl)\n",
        "      avgPrecision=ap\n",
        "      return avgPrecision\n",
        "\n",
        "\n",
        "    def meanAveragePrecision(self, doc_IDs_ordered, query_ids, q_rels, k):\n",
        "      \"\"\"\n",
        "      Computation of MAP of the Information Retrieval System\n",
        "      at given value of k, averaged over all the queries\n",
        "\n",
        "      Parameters\n",
        "      ----------\n",
        "      arg1 : list\n",
        "        A list of lists of integers where the ith sub-list is a list of IDs\n",
        "        of documents in their predicted order of relevance to the ith query\n",
        "      arg2 : list\n",
        "        A list of IDs of the queries\n",
        "      arg3 : list\n",
        "        A list of dictionaries containing document-relevance\n",
        "        judgements - Refer cran_qrels.json for the structure of each\n",
        "        dictionary\n",
        "      arg4 : int\n",
        "        The k value\n",
        "\n",
        "      Returns\n",
        "      -------\n",
        "      float\n",
        "        The MAP value as a number between 0 and 1\n",
        "      \"\"\"\n",
        "\n",
        "      meanAveragePrecision = -1\n",
        "\n",
        "      #Fill in code here\n",
        "      MAP = 0\n",
        "      # preprocess q_rels\n",
        "      self.build_qr(q_rels)\n",
        "      qr = self.qr\n",
        "\n",
        "      for i in range(len(query_ids)):\n",
        "        # print(len(doc_IDs_ordered_all),len(query_ids))\n",
        "        pdl = doc_IDs_ordered[i][:k]\n",
        "        rdl = qr[int(query_ids[i])]\n",
        "        #print(pdl[:10], rdl)\n",
        "        for j in range(len(pdl)):\n",
        "          if pdl[j] in rdl:\n",
        "            pdl[j] = 1\n",
        "          else:\n",
        "            pdl[j] = 0\n",
        "        ap = 0\n",
        "        for j in range(len(pdl)):\n",
        "          ap += (sum(pdl[:(j + 1)]) * 1.0 / (j + 1))\n",
        "        ap /= len(pdl)\n",
        "        MAP += ap\n",
        "      MAP /= len(query_ids)\n",
        "      meanAveragePrecision=MAP\n",
        "\n",
        "\n",
        "      return meanAveragePrecision\n",
        "\n"
      ],
      "execution_count": 6,
      "outputs": []
    },
    {
      "cell_type": "code",
      "metadata": {
        "id": "pX1_aewCf8kD",
        "cellView": "form"
      },
      "source": [
        "#@title Function for old method (Tfidf)\n",
        "def train_old(k):\n",
        "  #without SVD\n",
        "  import json\n",
        "  dj = json.load(open('/content/cranfield/cran_docs.json', 'r'))\n",
        "  docs,dids=[item['body'] for item in dj],[item['id'] for item in dj]\n",
        "  qj = json.load(open('/content/cranfield/cran_queries.json', 'r'))\n",
        "  qrs,qids=[item['query'] for item in qj],[item['query number'] for item in qj]\n",
        "  #print(len(dids),len(qids))\n",
        "  qrels=json.load(open('/content/cranfield/cran_qrels.json', 'r'))\n",
        "  eval=Evaluation()\n",
        "  vectorizer = TfidfVectorizer(tokenizer=data_preprocess,stop_words=None, \n",
        "                             use_idf=True, \n",
        "                             smooth_idf=True,max_df=0.6)\n",
        "  dvecs1=vectorizer.fit_transform(docs).todense()\n",
        "  qvecs1=vectorizer.transform(qrs).todense()\n",
        "  #print(dvecs1.shape,qvecs1.shape)\n",
        "  B=sklearn.metrics.pairwise.cosine_similarity(qvecs1,dvecs1)\n",
        "\n",
        "  pred_ids=np.zeros((255,k),dtype=int)\n",
        "  for i in range(0,225):\n",
        "    x=np.argsort(B[i]).T[::-1][:k]\n",
        "    j=0\n",
        "    for y in x:\n",
        "      pred_ids[i][j]=dids[y]\n",
        "      j+=1\n",
        "  pdl=pred_ids.tolist()\n",
        "\n",
        "  results1=[]\n",
        "  for i in range(20):\n",
        "    s=i*10\n",
        "    e=s+10\n",
        "    results1.append([eval.meanAveragePrecision(pdl[s:e],qids[s:e],qrels,k),eval.meanNDCG(pdl[s:e],qids[s:e],qrels,k),eval.meanPrecision(pdl[s:e],qids[s:e],qrels,k),eval.meanRecall(pdl[s:e],qids[s:e],qrels,k),eval.meanFscore(pdl[s:e],qids[s:e],qrels,k)])\n",
        "  print('Using old method- k: '+str(k)+' nDCG: '+str(eval.meanNDCG(pdl,qids,qrels,k)))\n",
        "  if k==3:\n",
        "    rf=open('Tfidf.csv','w')\n",
        "    rf.write('MAP,NDCG,MeanPrecision,MeanRecall,MeanFscore\\n')\n",
        "    for x in results1:\n",
        "      rf.write(str(x[0])+','+str(x[1])+','+str(x[2])+','+str(x[3])+','+str(x[4])+'\\n')\n",
        "    rf.close()\n",
        "  return results1,eval.meanNDCG(pdl,qids,qrels,k),eval.meanAveragePrecision(pdl,qids,qrels,k),eval.meanRecall(pdl,qids,qrels,k),eval.meanFscore(pdl,qids,qrels,k)\n",
        "\n",
        "  "
      ],
      "execution_count": 7,
      "outputs": []
    },
    {
      "cell_type": "code",
      "metadata": {
        "id": "PKSe9GyLgDmt",
        "cellView": "form"
      },
      "source": [
        "#@title Function for using LSA\n",
        "def train_new(k):\n",
        "  import json\n",
        "  dj = json.load(open('/content/cranfield/cran_docs.json', 'r'))\n",
        "  docs,dids=[item['body']+' '+item['title'] for item in dj],[item['id'] for item in dj]\n",
        "  qj = json.load(open('/content/cranfield/cran_queries.json', 'r'))\n",
        "  qrs,qids=[item['query'] for item in qj],[item['query number'] for item in qj]\n",
        "  #print(len(dids),len(qids))\n",
        "  #k=5\n",
        "  vectorizer = TfidfVectorizer(tokenizer=data_preprocess,stop_words=None, \n",
        "                             use_idf=True, \n",
        "                             smooth_idf=True,max_df=0.9,ngram_range=(1,2))\n",
        "  svd_model = TruncatedSVD(n_components=500,         \n",
        "                          algorithm='randomized',\n",
        "                          n_iter=10)\n",
        "  svd_transformer = Pipeline([('tfidf', vectorizer), \n",
        "                              ('svd', svd_model)])\n",
        "  dvecs=svd_transformer.fit_transform(docs)\n",
        "  from scipy.sparse import csr_matrix\n",
        "  #qvecs_qe=np.dot(vectorizer.transform(qrs).todense(),wsim)\n",
        "  #qvecs=np.dot(qvecs_qe,svd_model.components_.T)\n",
        "  qvecs=svd_transformer.transform(qrs)\n",
        "  #print(qvecs.shape)\n",
        "  A=sklearn.metrics.pairwise.cosine_similarity(qvecs,dvecs)\n",
        "  pred_ids=np.zeros((255,k),dtype=int)\n",
        "  for i in range(0,225):\n",
        "    x=np.argsort(A[i]).T[::-1][:k]\n",
        "    j=0\n",
        "    for y in x:\n",
        "      pred_ids[i][j]=dids[y]\n",
        "      j+=1\n",
        "  pdl=pred_ids.tolist()\n",
        "  qrels=json.load(open('/content/cranfield/cran_qrels.json', 'r'))\n",
        "  eval=Evaluation()\n",
        "  results=[]\n",
        "  for i in range(20):\n",
        "    s=i*10\n",
        "    e=s+10\n",
        "    results.append([eval.meanAveragePrecision(pdl[s:e],qids[s:e],qrels,k),eval.meanNDCG(pdl[s:e],qids[s:e],qrels,k),eval.meanPrecision(pdl[s:e],qids[s:e],qrels,k),eval.meanRecall(pdl[s:e],qids[s:e],qrels,k),eval.meanFscore(pdl[s:e],qids[s:e],qrels,k)])\n",
        "  print('Using new method using LSA- k: '+str(k)+' nDCG: '+str(eval.meanNDCG(pdl,qids,qrels,k)))\n",
        "  if k==3:\n",
        "    rf=open('LSA.csv','w')\n",
        "    rf.write('MAP,NDCG,MeanPrecision,MeanRecall,MeanFscore\\n')\n",
        "    for x in results:\n",
        "      rf.write(str(x[0])+','+str(x[1])+','+str(x[2])+','+str(x[3])+','+str(x[4])+'\\n')\n",
        "    rf.close()\n",
        "  return results,eval.meanNDCG(pdl,qids,qrels,k),eval.meanAveragePrecision(pdl,qids,qrels,k),eval.meanRecall(pdl,qids,qrels,k),eval.meanFscore(pdl,qids,qrels,k)\n"
      ],
      "execution_count": 8,
      "outputs": []
    },
    {
      "cell_type": "code",
      "metadata": {
        "id": "h2LROakM6VFx",
        "cellView": "form"
      },
      "source": [
        "#@title Using both bm25 and LSA\n",
        "def data_preprocess1(docs):\n",
        "  doc_list=[]\n",
        "  for every_doc in docs:\n",
        "    tokens = word_tokenize(every_doc)\n",
        "    # convert to lower case \n",
        "    tokens = [w.lower() for w in tokens]\n",
        "    # remove punctuation from each word\n",
        "    table = str.maketrans('', '', string.punctuation)\n",
        "    stripped = [w.translate(table) for w in tokens]\n",
        "    # remove remaining tokens that are not alphabetic\n",
        "    words = [word for word in stripped if word.isalpha()]\n",
        "    # filter out stop words\n",
        "    stop_words = set(stopwords.words('english'))\n",
        "    words = [w for w in words if not w in stop_words]\n",
        "    # stemming of words\n",
        "    porter = PorterStemmer()\n",
        "    stemmed = [porter.stem(word) for word in tokens]\n",
        "    doc_list.append(stemmed)\n",
        "  return doc_list\n",
        "\n",
        "def get_wsim():\n",
        "  import json\n",
        "  dj = json.load(open('/content/cranfield/cran_docs.json', 'r'))\n",
        "  docs,dids=[item['body']+' '+item['title'] for item in dj],[item['id'] for item in dj]\n",
        "  qj = json.load(open('/content/cranfield/cran_queries.json', 'r'))\n",
        "  qrs,qids=[item['query'] for item in qj],[item['query number'] for item in qj]\n",
        "  #print(len(dids),len(qids))\n",
        "  #k=5\n",
        "  vectorizer = TfidfVectorizer(tokenizer=data_preprocess,stop_words=None, \n",
        "                             use_idf=True, \n",
        "                             smooth_idf=True,max_df=0.9)\n",
        "  svd_model = TruncatedSVD(n_components=325,         \n",
        "                          algorithm='randomized',\n",
        "                          n_iter=10)\n",
        "  svd_transformer = Pipeline([('tfidf', vectorizer), \n",
        "                              ('svd', svd_model)])\n",
        "  dvecs=svd_transformer.fit_transform(docs)\n",
        "  wsim=sklearn.metrics.pairwise.cosine_similarity(svd_model.components_.T,svd_model.components_.T)\n",
        "  return wsim\n",
        "def train_mixed(k,k1=1,k2=1):\n",
        "  import json\n",
        "  dj = json.load(open('/content/cranfield/cran_docs.json', 'r'))\n",
        "  docs,dids=[item['body']+' '+item['title'] for item in dj],[item['id'] for item in dj]\n",
        "  qj = json.load(open('/content/cranfield/cran_queries.json', 'r'))\n",
        "  qrs,qids=[item['query'] for item in qj],[item['query number'] for item in qj]\n",
        "  tot_query = len(qids)\n",
        "  pred_ids=np.zeros((tot_query,k),dtype=int)\n",
        "  tokenized_corpus = data_preprocess1(docs)\n",
        "  tokenized_query = data_preprocess1(qrs)\n",
        "  bm25 = BM25Okapi(tokenized_corpus)\n",
        "  vectorizer = TfidfVectorizer(tokenizer=data_preprocess,stop_words=None, \n",
        "                             use_idf=True, \n",
        "                             smooth_idf=True,max_df=0.9,ngram_range=(1,2))\n",
        "  svd_model = TruncatedSVD(n_components=500,         \n",
        "                          algorithm='randomized',\n",
        "                          n_iter=10)\n",
        "  svd_transformer = Pipeline([('tfidf', vectorizer), \n",
        "                              ('svd', svd_model)])\n",
        "  dvecs=svd_transformer.fit_transform(docs)\n",
        "  wsim=get_wsim()\n",
        "  v=vectorizer.get_feature_names()\n",
        "  \n",
        "  stop_words = set(stopwords.words('english')) \n",
        "  import random\n",
        "  for i in range(len(qrs)):\n",
        "    new_qr=qrs[i]\n",
        "    tkns=nltk.word_tokenize(qrs[i])\n",
        "    random.shuffle(tkns)\n",
        "    for x in tkns :\n",
        "      k2=k2-1\n",
        "      if k2<=0: break\n",
        "      if x not in stop_words:\n",
        "        try:\n",
        "          new_qr+=(' '+' '.join(getsyn(x,k1+1,v,wsim)[1:]))\n",
        "        except Exception:\n",
        "          pass\n",
        "    #if i<2:\n",
        "      #print('old-',qrs[i])\n",
        "      #print('new-',new_qr)\n",
        "      #print('\\n\\n')\n",
        "    qrs[i]=new_qr\n",
        "  from scipy.sparse import csr_matrix\n",
        "  #qvecs_qe=np.dot(vectorizer.transform(qrs).todense(),wsim)\n",
        "  #qvecs=np.dot(qvecs_qe,svd_model.components_.T)\n",
        "  qvecs=svd_transformer.transform(qrs)\n",
        "  #print(qvecs.shape)\n",
        "  A=sklearn.metrics.pairwise.cosine_similarity(qvecs,dvecs)\n",
        "  A=(A-A.min(axis=1).reshape(-1,1))/A.max(axis=1).reshape(-1,1)\n",
        "  pred_ids=np.zeros((255,k),dtype=int)\n",
        "  alpha=60.0/(70+60.0)\n",
        "  for i in range(0,tot_query):\n",
        "    doc_scores = bm25.get_scores(tokenized_query[i])\n",
        "    doc_scores = (doc_scores-doc_scores.min(axis=0))/doc_scores.max(axis=0)\n",
        "    A[i]=alpha*A[i]+(1-alpha)*doc_scores.reshape(1,-1)\n",
        "  for i in range(0,225):\n",
        "    x=np.argsort(A[i]).T[::-1][:k]\n",
        "    j=0\n",
        "    for y in x:\n",
        "      pred_ids[i][j]=dids[y]\n",
        "      j+=1\n",
        "  pdl=pred_ids.tolist()\n",
        "  qrels=json.load(open('/content/cranfield/cran_qrels.json', 'r'))\n",
        "  eval=Evaluation()\n",
        "  results=[]\n",
        "  for i in range(20):\n",
        "    s=i*10\n",
        "    e=s+10\n",
        "    results.append([eval.meanAveragePrecision(pdl[s:e],qids[s:e],qrels,k),eval.meanNDCG(pdl[s:e],qids[s:e],qrels,k),eval.meanPrecision(pdl[s:e],qids[s:e],qrels,k),eval.meanRecall(pdl[s:e],qids[s:e],qrels,k),eval.meanFscore(pdl[s:e],qids[s:e],qrels,k)])\n",
        "  print('Using new method with bm25 and LSA- k: '+str(k)+' nDCG: '+str(eval.meanNDCG(pdl,qids,qrels,k)))\n",
        "  if k==3:\n",
        "    rf=open('LSA+BM25.csv','w')\n",
        "    rf.write('MAP,NDCG,MeanPrecision,MeanRecall,MeanFscore\\n')\n",
        "    for x in results:\n",
        "      rf.write(str(x[0])+','+str(x[1])+','+str(x[2])+','+str(x[3])+','+str(x[4])+'\\n')\n",
        "    rf.close()\n",
        "  return results,eval.meanNDCG(pdl,qids,qrels,k),eval.meanAveragePrecision(pdl,qids,qrels,k),eval.meanRecall(pdl,qids,qrels,k),eval.meanFscore(pdl,qids,qrels,k)"
      ],
      "execution_count": 9,
      "outputs": []
    },
    {
      "cell_type": "code",
      "metadata": {
        "id": "kqN1-yCvr-a1",
        "cellView": "form"
      },
      "source": [
        "#@title Function for LSA with Query expansion\n",
        "def getsyn(x,k,v,wsim):\n",
        "  if x in v:\n",
        "    i= v.index(x)\n",
        "    y = np.argsort(wsim[i]).T[::-1][:k]\n",
        "    ans=[v[i] for i in y]\n",
        "    return ans\n",
        "  else:\n",
        "    return []\n",
        "\n",
        "def train_new_qe(k,k1,k2):\n",
        "  import json\n",
        "  dj = json.load(open('/content/cranfield/cran_docs.json', 'r'))\n",
        "  docs,dids=[item['body']+' '+item['title'] for item in dj],[item['id'] for item in dj]\n",
        "  qj = json.load(open('/content/cranfield/cran_queries.json', 'r'))\n",
        "  qrs,qids=[item['query'] for item in qj],[item['query number'] for item in qj]\n",
        "  #print(len(dids),len(qids))\n",
        "  #k=5\n",
        "  vectorizer = TfidfVectorizer(tokenizer=data_preprocess,stop_words=None, \n",
        "                             use_idf=True, \n",
        "                             smooth_idf=True,max_df=0.9)\n",
        "  svd_model = TruncatedSVD(n_components=325,         \n",
        "                          algorithm='randomized',\n",
        "                          n_iter=10)\n",
        "  svd_transformer = Pipeline([('tfidf', vectorizer), \n",
        "                              ('svd', svd_model)])\n",
        "  dvecs=svd_transformer.fit_transform(docs)\n",
        "  wsim=sklearn.metrics.pairwise.cosine_similarity(svd_model.components_.T,svd_model.components_.T)\n",
        "  v=vectorizer.get_feature_names()\n",
        "  \n",
        "  stop_words = set(stopwords.words('english')) \n",
        "  import random\n",
        "  for i in range(len(qrs)):\n",
        "    new_qr=qrs[i]\n",
        "    tkns=nltk.word_tokenize(qrs[i])\n",
        "    random.shuffle(tkns)\n",
        "    for x in tkns :\n",
        "      k2=k2-1\n",
        "      if k2<=0: break\n",
        "      if x not in stop_words:\n",
        "        try:\n",
        "          new_qr+=(' '+' '.join(getsyn(x,k1+1,v,wsim)[1:]))\n",
        "        except Exception:\n",
        "          pass\n",
        "    #if i<2:\n",
        "      #print('old-',qrs[i])\n",
        "      #print('new-',new_qr)\n",
        "      #print('\\n\\n')\n",
        "    qrs[i]=new_qr\n",
        "  from scipy.sparse import csr_matrix\n",
        "  #qvecs_qe=np.dot(vectorizer.transform(qrs).todense(),wsim)\n",
        "  #qvecs=np.dot(qvecs_qe,svd_model.components_.T)\n",
        "  qvecs=svd_transformer.transform(qrs)\n",
        "  #print(qvecs.shape)\n",
        "  A=sklearn.metrics.pairwise.cosine_similarity(qvecs,dvecs)\n",
        "  pred_ids=np.zeros((255,k),dtype=int)\n",
        "  for i in range(0,225):\n",
        "    x=np.argsort(A[i]).T[::-1][:k]\n",
        "    j=0\n",
        "    for y in x:\n",
        "      pred_ids[i][j]=dids[y]\n",
        "      j+=1\n",
        "  pdl=pred_ids.tolist()\n",
        "  qrels=json.load(open('/content/cranfield/cran_qrels.json', 'r'))\n",
        "  eval=Evaluation()\n",
        "  results=[]\n",
        "  for i in range(20):\n",
        "    s=i*10\n",
        "    e=s+10\n",
        "    results.append([eval.meanAveragePrecision(pdl[s:e],qids[s:e],qrels,k),eval.meanNDCG(pdl[s:e],qids[s:e],qrels,k),eval.meanPrecision(pdl[s:e],qids[s:e],qrels,k),eval.meanRecall(pdl[s:e],qids[s:e],qrels,k),eval.meanFscore(pdl[s:e],qids[s:e],qrels,k)])\n",
        "  print('Using new method with query expansion- k: '+str(k)+' nDCG: '+str(eval.meanNDCG(pdl,qids,qrels,k)))\n",
        "  if k==3:\n",
        "    rf=open('LSA+QE.csv','w')\n",
        "    rf.write('MAP,NDCG,MeanPrecision,MeanRecall,MeanFscore\\n')\n",
        "    for x in results:\n",
        "      rf.write(str(x[0])+','+str(x[1])+','+str(x[2])+','+str(x[3])+','+str(x[4])+'\\n')\n",
        "    rf.close()\n",
        "  return results,eval.meanNDCG(pdl,qids,qrels,k),eval.meanAveragePrecision(pdl,qids,qrels,k),eval.meanRecall(pdl,qids,qrels,k),eval.meanFscore(pdl,qids,qrels,k)"
      ],
      "execution_count": 10,
      "outputs": []
    },
    {
      "cell_type": "code",
      "metadata": {
        "id": "wgBZN_aS9kPa",
        "cellView": "form"
      },
      "source": [
        "#@title BM25 code\n",
        "def train_bm25(k):\n",
        "  import json\n",
        "  dj = json.load(open('/content/cranfield/cran_docs.json', 'r'))\n",
        "  docs,dids=[item['body']+' '+item['title'] for item in dj],[item['id'] for item in dj]\n",
        "  qj = json.load(open('/content/cranfield/cran_queries.json', 'r'))\n",
        "  qrs,qids=[item['query'] for item in qj],[item['query number'] for item in qj]\n",
        "  tot_query = len(qids)\n",
        "  pred_ids=np.zeros((tot_query,k),dtype=int)\n",
        "  tokenized_corpus = data_preprocess1(docs)\n",
        "  tokenized_query = data_preprocess1(qrs)\n",
        "  bm25 = BM25Okapi(tokenized_corpus)\n",
        "\n",
        "  for i in range(0,tot_query):\n",
        "    doc_scores = bm25.get_scores(tokenized_query[i])\n",
        "    top_n = np.argsort(doc_scores)[::-1][:k]\n",
        "    index = 0\n",
        "    for j in top_n:\n",
        "      pred_ids[i][index]=dids[j]\n",
        "      index = index + 1\n",
        "  \n",
        "  pdl=pred_ids.tolist()\n",
        "  pdl\n",
        "  qrels=json.load(open('/content/cranfield/cran_qrels.json', 'r'))\n",
        "  eval=Evaluation()\n",
        "  results=[]\n",
        "  for i in range(20):\n",
        "    s=i*10\n",
        "    e=s+10\n",
        "    results.append([eval.meanAveragePrecision(pdl[s:e],qids[s:e],qrels,k),eval.meanNDCG(pdl[s:e],qids[s:e],qrels,k),eval.meanPrecision(pdl[s:e],qids[s:e],qrels,k),eval.meanRecall(pdl[s:e],qids[s:e],qrels,k),eval.meanFscore(pdl[s:e],qids[s:e],qrels,k)])\n",
        "  print('Using new method with bm25- k: '+str(k)+' nDCG: '+str(eval.meanNDCG(pdl,qids,qrels,k)))\n",
        "  if k==3:\n",
        "    rf=open('BM25.csv','w')\n",
        "    rf.write('MAP,NDCG,MeanPrecision,MeanRecall,MeanFscore\\n')\n",
        "    for x in results:\n",
        "      rf.write(str(x[0])+','+str(x[1])+','+str(x[2])+','+str(x[3])+','+str(x[4])+'\\n')\n",
        "    rf.close()\n",
        "  return results,eval.meanNDCG(pdl,qids,qrels,k),eval.meanAveragePrecision(pdl,qids,qrels,k),eval.meanRecall(pdl,qids,qrels,k),eval.meanFscore(pdl,qids,qrels,k)\n",
        "\n"
      ],
      "execution_count": 11,
      "outputs": []
    },
    {
      "cell_type": "code",
      "metadata": {
        "id": "wW169DmBgaO1",
        "cellView": "form"
      },
      "source": [
        "#@title Statistcal Hypothesis testing code\n",
        "import numpy as np\n",
        "from statistics import variance\n",
        "from scipy import stats\n",
        "\n",
        "def test(x,y,a):\n",
        "  print('x-new method in this test, y- old method(Tfidf)')\n",
        "  #null hypothesis: mean of x is less than or equal to mean of y\n",
        "  #alternate hypothesis: mean of x is greater than mean of y\n",
        "  print('null hypothesis: mean of x is less than or equal to mean of y')\n",
        "  print('alternate hypothesis: mean of x is greater than mean of y')\n",
        "  n=len(x)\n",
        "  m=n\n",
        "  df=n+m-2\n",
        "  x_ , y_ = sum(x)/n, sum(y)/n\n",
        "  sx ,sy =variance(x),variance(y)\n",
        "  sp = ((n-1)*sx+(m-1)*sy)/(n+m-2)\n",
        "  ts = (x_ - y_)/(sp*(1/m+1/n))**0.5\n",
        "  z_a=stats.t.ppf(1-a,df)\n",
        "  print('x_:'+str(x_)+' y_:'+str(y_)+' sx :'+str(sx)+' sy: '+str(sy)+' sp: '+str(sp))\n",
        "  print('Test statistic: ',ts)\n",
        "  print('t-alpha: ',z_a)\n",
        "  print('p-value: ',1-stats.t.cdf(ts,df))\n",
        "  print('alpha: ',a)\n",
        "  if ts>z_a:\n",
        "    print(\"Conclusion: mean of x is greater than mean of y (new method is better than old method)\")\n",
        "  else:\n",
        "    print(\"Conclusion: No evidence for proving new method is better\")"
      ],
      "execution_count": 12,
      "outputs": []
    },
    {
      "cell_type": "code",
      "metadata": {
        "id": "AIXpzroqkDi4",
        "colab": {
          "base_uri": "https://localhost:8080/"
        },
        "outputId": "3cc4245c-0394-4378-e7a5-8015b788116c"
      },
      "source": [
        "r5 = [train_mixed(i) for i in range(1,8)]\n",
        "r1 = [train_new(i) for i in range(1,8)]\n",
        "r2 = [train_old(i) for i in range(1,8)]\n",
        "r3 = [train_new_qe(i,1,3) for i in range(1,8)]\n",
        "r4 = [train_bm25(i) for i in range(1,8)]\n"
      ],
      "execution_count": 13,
      "outputs": [
        {
          "output_type": "stream",
          "text": [
            "Using new method with bm25 and LSA- k: 1 nDCG: 0.8496732026143791\n",
            "Using new method with bm25 and LSA- k: 2 nDCG: 0.7411987169088814\n",
            "Using new method with bm25 and LSA- k: 3 nDCG: 0.6527467169431491\n",
            "Using new method with bm25 and LSA- k: 4 nDCG: 0.6309465723107366\n",
            "Using new method with bm25 and LSA- k: 5 nDCG: 0.6201471484977858\n",
            "Using new method with bm25 and LSA- k: 6 nDCG: 0.598979563495148\n",
            "Using new method with bm25 and LSA- k: 7 nDCG: 0.5889017251126485\n",
            "Using new method using LSA- k: 1 nDCG: 0.7718954248366013\n",
            "Using new method using LSA- k: 2 nDCG: 0.6891103225192207\n",
            "Using new method using LSA- k: 3 nDCG: 0.5994618027853307\n",
            "Using new method using LSA- k: 4 nDCG: 0.584998240533701\n",
            "Using new method using LSA- k: 5 nDCG: 0.5779152745862443\n",
            "Using new method using LSA- k: 6 nDCG: 0.5615851437345581\n",
            "Using new method using LSA- k: 7 nDCG: 0.5557663734532712\n",
            "Using old method- k: 1 nDCG: 0.7379084967320262\n",
            "Using old method- k: 2 nDCG: 0.6346383320523373\n",
            "Using old method- k: 3 nDCG: 0.5722315061784253\n",
            "Using old method- k: 4 nDCG: 0.5559126248108701\n",
            "Using old method- k: 5 nDCG: 0.542096184778817\n",
            "Using old method- k: 6 nDCG: 0.5308550522272445\n",
            "Using old method- k: 7 nDCG: 0.5259928682728755\n",
            "Using new method with query expansion- k: 1 nDCG: 0.7764705882352941\n",
            "Using new method with query expansion- k: 2 nDCG: 0.6776358622055269\n",
            "Using new method with query expansion- k: 3 nDCG: 0.6061141211193251\n",
            "Using new method with query expansion- k: 4 nDCG: 0.5923071756219908\n",
            "Using new method with query expansion- k: 5 nDCG: 0.5802181595833442\n",
            "Using new method with query expansion- k: 6 nDCG: 0.5563922341489835\n",
            "Using new method with query expansion- k: 7 nDCG: 0.5535658643479274\n",
            "Using new method with bm25- k: 1 nDCG: 0.9037037037037038\n",
            "Using new method with bm25- k: 2 nDCG: 0.7743087908243346\n",
            "Using new method with bm25- k: 3 nDCG: 0.6901511603206946\n",
            "Using new method with bm25- k: 4 nDCG: 0.6730712345448103\n",
            "Using new method with bm25- k: 5 nDCG: 0.660947663745055\n",
            "Using new method with bm25- k: 6 nDCG: 0.635023269812151\n",
            "Using new method with bm25- k: 7 nDCG: 0.6231565480545301\n"
          ],
          "name": "stdout"
        }
      ]
    },
    {
      "cell_type": "code",
      "metadata": {
        "colab": {
          "base_uri": "https://localhost:8080/",
          "height": 295
        },
        "id": "Fjp2h-LfggDb",
        "cellView": "form",
        "outputId": "d63f8c17-889f-4723-8664-7d6123f9d5c8"
      },
      "source": [
        "#@title nDCG comparison visualization\n",
        "import matplotlib.pyplot as plt\n",
        "\n",
        "plt.plot([i for i in range(1,8) ], [w[1] for w in r1], label = \"LSA\")\n",
        "plt.plot([i for i in range(1,8) ], [w[1] for w in r2], label = \"Tfidf\")\n",
        "plt.plot([i for i in range(1,8) ], [w[1] for w in r3], label = \"LSA + query expansion\")\n",
        "plt.plot([i for i in range(1,8) ], [w[1] for w in r4], label = \"BM25\")\n",
        "plt.plot([i for i in range(1,8) ], [w[1] for w in r5], label = \"BM25 + LSA\")\n",
        "plt.xlabel('k')\n",
        "plt.ylabel('nDCG')\n",
        "plt.title('Comparison of nDCG scores for the new method and old method ')\n",
        "plt.legend()\n",
        "plt.show()\n"
      ],
      "execution_count": 14,
      "outputs": [
        {
          "output_type": "display_data",
          "data": {
            "image/png": "[encoded data removed]",
            "text/plain": [
              "<Figure size 432x288 with 1 Axes>"
            ]
          },
          "metadata": {
            "tags": [],
            "needs_background": "light"
          }
        }
      ]
    },
    {
      "cell_type": "code",
      "metadata": {
        "colab": {
          "base_uri": "https://localhost:8080/",
          "height": 295
        },
        "id": "ovY4eVSHk9Ht",
        "cellView": "form",
        "outputId": "888d8546-2e55-4d12-e97a-a364dd54ac0c"
      },
      "source": [
        "#@title Mean Precision comparison visualization\n",
        "import matplotlib.pyplot as plt\n",
        "\n",
        "plt.plot([i for i in range(1,8) ], [w[2] for w in r1], label = \"LSA\")\n",
        "plt.plot([i for i in range(1,8) ], [w[2] for w in r2], label = \"Tfidf\")\n",
        "plt.plot([i for i in range(1,8) ], [w[2] for w in r3], label = \"LSA + query expansion\")\n",
        "plt.plot([i for i in range(1,8) ], [w[2] for w in r4], label = \"BM25\")\n",
        "plt.plot([i for i in range(1,8) ], [w[2] for w in r5], label = \"BM25+LSA\")\n",
        "plt.xlabel('k')\n",
        "plt.ylabel('Mean Precision')\n",
        "plt.title('Comparison of Mean Precision for the new method and old method ')\n",
        "plt.legend()\n",
        "plt.show()\n"
      ],
      "execution_count": 15,
      "outputs": [
        {
          "output_type": "display_data",
          "data": {
            "image/png": "[encoded data removed]",
            "text/plain": [
              "<Figure size 432x288 with 1 Axes>"
            ]
          },
          "metadata": {
            "tags": [],
            "needs_background": "light"
          }
        }
      ]
    },
    {
      "cell_type": "code",
      "metadata": {
        "colab": {
          "base_uri": "https://localhost:8080/",
          "height": 295
        },
        "id": "lWfhbEITlDtS",
        "outputId": "12105fa5-6417-4d00-fec9-c4c55b7da59a"
      },
      "source": [
        "#@title Mean Recall comparison\n",
        "import matplotlib.pyplot as plt\n",
        "\n",
        "plt.plot([i for i in range(1,8) ], [w[3] for w in r1], label = \"LSA\")\n",
        "plt.plot([i for i in range(1,8) ], [w[3] for w in r2], label = \"Tfidf\")\n",
        "plt.plot([i for i in range(1,8) ], [w[3] for w in r3], label = \"LSA + query expansion\")\n",
        "plt.plot([i for i in range(1,8) ], [w[3] for w in r4], label = \"BM25\")\n",
        "plt.plot([i for i in range(1,8) ], [w[3] for w in r5], label = \"BM25+LSA\")\n",
        "plt.xlabel('k')\n",
        "plt.ylabel('Mean Recall')\n",
        "plt.title('Comparison of Mean Recall for the new method and old method ')\n",
        "plt.legend()\n",
        "plt.show()\n"
      ],
      "execution_count": 16,
      "outputs": [
        {
          "output_type": "display_data",
          "data": {
            "image/png": "[encoded data removed]",
            "text/plain": [
              "<Figure size 432x288 with 1 Axes>"
            ]
          },
          "metadata": {
            "tags": [],
            "needs_background": "light"
          }
        }
      ]
    },
    {
      "cell_type": "code",
      "metadata": {
        "colab": {
          "base_uri": "https://localhost:8080/",
          "height": 295
        },
        "id": "ysLfRC1flZGV",
        "cellView": "form",
        "outputId": "bdef3236-ca2d-4ff7-89d2-64b7c3322f3e"
      },
      "source": [
        "#@title Mean Fscore\n",
        "import matplotlib.pyplot as plt\n",
        "\n",
        "plt.plot([i for i in range(1,8) ], [w[4] for w in r1], label = \"LSA\")\n",
        "plt.plot([i for i in range(1,8) ], [w[4] for w in r2], label = \"Tfidf\")\n",
        "plt.plot([i for i in range(1,8) ], [w[4] for w in r3], label = \"LSA + query expansion\")\n",
        "plt.plot([i for i in range(1,8) ], [w[4] for w in r4], label = \"BM25\")\n",
        "plt.plot([i for i in range(1,8) ], [w[4] for w in r5], label = \"BM25+LSA\")\n",
        "plt.xlabel('k')\n",
        "plt.ylabel('Mean Fscore')\n",
        "plt.title('Comparison of Mean Fscore for the new method and old method ')\n",
        "plt.legend()\n",
        "plt.show()\n"
      ],
      "execution_count": 17,
      "outputs": [
        {
          "output_type": "display_data",
          "data": {
            "image/png": "[encoded data removed]",
            "text/plain": [
              "<Figure size 432x288 with 1 Axes>"
            ]
          },
          "metadata": {
            "tags": [],
            "needs_background": "light"
          }
        }
      ]
    },
    {
      "cell_type": "code",
      "metadata": {
        "colab": {
          "base_uri": "https://localhost:8080/"
        },
        "id": "uTAsK6xwgnsV",
        "outputId": "54077606-3159-4c9e-afd7-cf423aaacb81"
      },
      "source": [
        "print('Hypothesis testing for LSA vs Tfidf using nDCG metric')\n",
        "d_x = [q[1] for q in r1[3][0]]\n",
        "d_y = [q[1] for q in r2[3][0]]\n",
        "test(d_x,d_y,0.10)"
      ],
      "execution_count": 18,
      "outputs": [
        {
          "output_type": "stream",
          "text": [
            "Hypothesis testing for LSA vs Tfidf using nDCG metric\n",
            "x-new method in this test, y- old method(Tfidf)\n",
            "null hypothesis: mean of x is less than or equal to mean of y\n",
            "alternate hypothesis: mean of x is greater than mean of y\n",
            "x_:0.6708575624691201 y_:0.6347976098868618 sx :0.03165048521300916 sy: 0.026145862823338594 sp: 0.028898174018173878\n",
            "Test statistic:  0.6707952062558813\n",
            "t-alpha:  1.3042302030325095\n",
            "p-value:  0.253203976116287\n",
            "alpha:  0.1\n",
            "Conclusion: No evidence for proving new method is better\n"
          ],
          "name": "stdout"
        }
      ]
    },
    {
      "cell_type": "code",
      "metadata": {
        "colab": {
          "base_uri": "https://localhost:8080/"
        },
        "id": "e3Z9LISbipqV",
        "outputId": "0b7acfe6-d1a1-4229-f578-7162ca4a2394"
      },
      "source": [
        "print('Hypothesis testing for LSA + Query exapsnion vs Tfidf using nDCG metric')\n",
        "d_x = [q[1] for q in r3[3][0]]\n",
        "d_y = [q[1] for q in r2[3][0]]\n",
        "test(d_x,d_y,0.10)"
      ],
      "execution_count": 19,
      "outputs": [
        {
          "output_type": "stream",
          "text": [
            "Hypothesis testing for LSA + Query exapsnion vs Tfidf using nDCG metric\n",
            "x-new method in this test, y- old method(Tfidf)\n",
            "null hypothesis: mean of x is less than or equal to mean of y\n",
            "alternate hypothesis: mean of x is greater than mean of y\n",
            "x_:0.6747100001077384 y_:0.6347976098868618 sx :0.03271308492979795 sy: 0.026145862823338594 sp: 0.029429473876568274\n",
            "Test statistic:  0.7357266505573594\n",
            "t-alpha:  1.3042302030325095\n",
            "p-value:  0.2332071629835616\n",
            "alpha:  0.1\n",
            "Conclusion: No evidence for proving new method is better\n"
          ],
          "name": "stdout"
        }
      ]
    },
    {
      "cell_type": "code",
      "metadata": {
        "colab": {
          "base_uri": "https://localhost:8080/"
        },
        "id": "Q-PDdm6DhsN6",
        "outputId": "3b735662-6d3e-4331-a6ee-fee35ed736b3"
      },
      "source": [
        "print('Hypothesis testing for BM25 vs Tfidf using nDCG metric')\n",
        "d_x = [q[1] for q in r4[3][0]]\n",
        "d_y = [q[1] for q in r2[3][0]]\n",
        "test(d_x,d_y,0.10)"
      ],
      "execution_count": 20,
      "outputs": [
        {
          "output_type": "stream",
          "text": [
            "Hypothesis testing for BM25 vs Tfidf using nDCG metric\n",
            "x-new method in this test, y- old method(Tfidf)\n",
            "null hypothesis: mean of x is less than or equal to mean of y\n",
            "alternate hypothesis: mean of x is greater than mean of y\n",
            "x_:0.685363678150915 y_:0.6347976098868618 sx :0.029312145269132384 sy: 0.026145862823338594 sp: 0.02772900404623549\n",
            "Test statistic:  0.9602671031730882\n",
            "t-alpha:  1.3042302030325095\n",
            "p-value:  0.17149570572168504\n",
            "alpha:  0.1\n",
            "Conclusion: No evidence for proving new method is better\n"
          ],
          "name": "stdout"
        }
      ]
    },
    {
      "cell_type": "code",
      "metadata": {
        "colab": {
          "base_uri": "https://localhost:8080/"
        },
        "id": "jbskmY-1h4R5",
        "outputId": "093f89ee-39e5-409b-d9fa-1a3b7b61104e"
      },
      "source": [
        "print('Hypothesis testing for BM25+LSA vs Tfidf using nDCG metric')\n",
        "d_x = [q[1] for q in r5[3][0]]\n",
        "d_y = [q[1] for q in r2[3][0]]\n",
        "test(d_x,d_y,0.10)"
      ],
      "execution_count": 21,
      "outputs": [
        {
          "output_type": "stream",
          "text": [
            "Hypothesis testing for BM25+LSA vs Tfidf using nDCG metric\n",
            "x-new method in this test, y- old method(Tfidf)\n",
            "null hypothesis: mean of x is less than or equal to mean of y\n",
            "alternate hypothesis: mean of x is greater than mean of y\n",
            "x_:0.7267697545586882 y_:0.6347976098868618 sx :0.022581349398235744 sy: 0.026145862823338594 sp: 0.024363606110787167\n",
            "Test statistic:  1.8633117773168224\n",
            "t-alpha:  1.3042302030325095\n",
            "p-value:  0.03508028133603347\n",
            "alpha:  0.1\n",
            "Conclusion: mean of x is greater than mean of y (new method is better than old method)\n"
          ],
          "name": "stdout"
        }
      ]
    },
    {
      "cell_type": "code",
      "metadata": {
        "colab": {
          "base_uri": "https://localhost:8080/"
        },
        "id": "sBMKfye-iFrg",
        "outputId": "47082b39-fe49-44c7-c7a7-a74cc275593b"
      },
      "source": [
        "print('Hypothesis testing for LSA vs Tfidf using Mean precision metric')\n",
        "d_x = [q[2] for q in r1[3][0]]\n",
        "d_y = [q[2] for q in r2[3][0]]\n",
        "test(d_x,d_y,0.10)"
      ],
      "execution_count": 22,
      "outputs": [
        {
          "output_type": "stream",
          "text": [
            "Hypothesis testing for LSA vs Tfidf using Mean precision metric\n",
            "x-new method in this test, y- old method(Tfidf)\n",
            "null hypothesis: mean of x is less than or equal to mean of y\n",
            "alternate hypothesis: mean of x is greater than mean of y\n",
            "x_:0.47375 y_:0.45625 sx :0.010491776315789474 sy: 0.01183388157894737 sp: 0.011162828947368423\n",
            "Test statistic:  0.5237824150066733\n",
            "t-alpha:  1.3042302030325095\n",
            "p-value:  0.3017357821859157\n",
            "alpha:  0.1\n",
            "Conclusion: No evidence for proving new method is better\n"
          ],
          "name": "stdout"
        }
      ]
    },
    {
      "cell_type": "code",
      "metadata": {
        "colab": {
          "base_uri": "https://localhost:8080/"
        },
        "id": "kPfWxe7Oiqyd",
        "outputId": "6d647d29-1859-43f4-bc57-69ead802534e"
      },
      "source": [
        "print('Hypothesis testing for LSA + Query Expansion vs Tfidf using Mean Precision metric')\n",
        "d_x = [q[2] for q in r3[3][0]]\n",
        "d_y = [q[2] for q in r2[3][0]]\n",
        "test(d_x,d_y,0.10)"
      ],
      "execution_count": 23,
      "outputs": [
        {
          "output_type": "stream",
          "text": [
            "Hypothesis testing for LSA + Query Expansion vs Tfidf using Mean Precision metric\n",
            "x-new method in this test, y- old method(Tfidf)\n",
            "null hypothesis: mean of x is less than or equal to mean of y\n",
            "alternate hypothesis: mean of x is greater than mean of y\n",
            "x_:0.475 y_:0.45625 sx :0.011710526315789473 sy: 0.01183388157894737 sp: 0.011772203947368422\n",
            "Test statistic:  0.5464776230783129\n",
            "t-alpha:  1.3042302030325095\n",
            "p-value:  0.2939661498787165\n",
            "alpha:  0.1\n",
            "Conclusion: No evidence for proving new method is better\n"
          ],
          "name": "stdout"
        }
      ]
    },
    {
      "cell_type": "code",
      "metadata": {
        "colab": {
          "base_uri": "https://localhost:8080/"
        },
        "id": "Nz5Sr5vaiJpl",
        "outputId": "df291d01-87a2-447f-82cc-3dc6c2e1d989"
      },
      "source": [
        "print('Hypothesis testing for BM25 vs Tfidf using Mean Precision metric')\n",
        "d_x = [q[2] for q in r4[3][0]]\n",
        "d_y = [q[2] for q in r2[3][0]]\n",
        "test(d_x,d_y,0.10)"
      ],
      "execution_count": 24,
      "outputs": [
        {
          "output_type": "stream",
          "text": [
            "Hypothesis testing for BM25 vs Tfidf using Mean Precision metric\n",
            "x-new method in this test, y- old method(Tfidf)\n",
            "null hypothesis: mean of x is less than or equal to mean of y\n",
            "alternate hypothesis: mean of x is greater than mean of y\n",
            "x_:0.4699999999999999 y_:0.45625 sx :0.010894736842105261 sy: 0.01183388157894737 sp: 0.011364309210526315\n",
            "Test statistic:  0.40787884160855886\n",
            "t-alpha:  1.3042302030325095\n",
            "p-value:  0.3428258368413517\n",
            "alpha:  0.1\n",
            "Conclusion: No evidence for proving new method is better\n"
          ],
          "name": "stdout"
        }
      ]
    },
    {
      "cell_type": "code",
      "metadata": {
        "colab": {
          "base_uri": "https://localhost:8080/"
        },
        "id": "t7NrbRMSiLwf",
        "outputId": "1d8f5c56-ab85-46eb-898d-798db0e9a535"
      },
      "source": [
        "print('Hypothesis testing for BM25+LSA vs Tfidf using Mean Precision metric')\n",
        "d_x = [q[2] for q in r5[3][0]]\n",
        "d_y = [q[2] for q in r2[3][0]]\n",
        "test(d_x,d_y,0.10)"
      ],
      "execution_count": 25,
      "outputs": [
        {
          "output_type": "stream",
          "text": [
            "Hypothesis testing for BM25+LSA vs Tfidf using Mean Precision metric\n",
            "x-new method in this test, y- old method(Tfidf)\n",
            "null hypothesis: mean of x is less than or equal to mean of y\n",
            "alternate hypothesis: mean of x is greater than mean of y\n",
            "x_:0.51125 y_:0.45625 sx :0.008320723684210525 sy: 0.01183388157894737 sp: 0.010077302631578949\n",
            "Test statistic:  1.7325689977996384\n",
            "t-alpha:  1.3042302030325095\n",
            "p-value:  0.04564130842809455\n",
            "alpha:  0.1\n",
            "Conclusion: mean of x is greater than mean of y (new method is better than old method)\n"
          ],
          "name": "stdout"
        }
      ]
    },
    {
      "cell_type": "code",
      "metadata": {
        "colab": {
          "base_uri": "https://localhost:8080/"
        },
        "id": "VNrZNYhukQ9q",
        "outputId": "cce8bae4-c0e4-4a62-d6a1-cf8b921fe9c6"
      },
      "source": [
        "print('Hypothesis testing for LSA vs Tfidf using Mean Recall metric')\n",
        "d_x = [q[3] for q in r1[3][0]]\n",
        "d_y = [q[3] for q in r2[3][0]]\n",
        "test(d_x,d_y,0.10)"
      ],
      "execution_count": 26,
      "outputs": [
        {
          "output_type": "stream",
          "text": [
            "Hypothesis testing for LSA vs Tfidf using Mean Recall metric\n",
            "x-new method in this test, y- old method(Tfidf)\n",
            "null hypothesis: mean of x is less than or equal to mean of y\n",
            "alternate hypothesis: mean of x is greater than mean of y\n",
            "x_:0.2952963094517608 y_:0.29228076656552826 sx :0.0077190814301935995 sy: 0.008283757156909804 sp: 0.008001419293551701\n",
            "Test statistic:  0.10660608502701742\n",
            "t-alpha:  1.3042302030325095\n",
            "p-value:  0.45783115967532795\n",
            "alpha:  0.1\n",
            "Conclusion: No evidence for proving new method is better\n"
          ],
          "name": "stdout"
        }
      ]
    },
    {
      "cell_type": "code",
      "metadata": {
        "colab": {
          "base_uri": "https://localhost:8080/"
        },
        "id": "yaHwsyhnkbhI",
        "outputId": "8bd6edd4-83ff-48be-e70c-d13323d6a4b2"
      },
      "source": [
        "print('Hypothesis testing for LSA + Query Expansion vs Tfidf using Mean Recall metric')\n",
        "d_x = [q[3] for q in r3[3][0]]\n",
        "d_y = [q[3] for q in r2[3][0]]\n",
        "test(d_x,d_y,0.10)"
      ],
      "execution_count": 27,
      "outputs": [
        {
          "output_type": "stream",
          "text": [
            "Hypothesis testing for LSA + Query Expansion vs Tfidf using Mean Recall metric\n",
            "x-new method in this test, y- old method(Tfidf)\n",
            "null hypothesis: mean of x is less than or equal to mean of y\n",
            "alternate hypothesis: mean of x is greater than mean of y\n",
            "x_:0.30102702522291774 y_:0.29228076656552826 sx :0.008737355279405308 sy: 0.008283757156909804 sp: 0.008510556218157555\n",
            "Test statistic:  0.29980808773717116\n",
            "t-alpha:  1.3042302030325095\n",
            "p-value:  0.38297872214504225\n",
            "alpha:  0.1\n",
            "Conclusion: No evidence for proving new method is better\n"
          ],
          "name": "stdout"
        }
      ]
    },
    {
      "cell_type": "code",
      "metadata": {
        "colab": {
          "base_uri": "https://localhost:8080/"
        },
        "id": "PtpGq3YRkg34",
        "outputId": "66332816-ff48-4d4e-d76b-0ee84bd9ef59"
      },
      "source": [
        "print('Hypothesis testing for BM25 vs Tfidf using Mean Recall metric')\n",
        "d_x = [q[3] for q in r4[3][0]]\n",
        "d_y = [q[3] for q in r2[3][0]]\n",
        "test(d_x,d_y,0.10)"
      ],
      "execution_count": 28,
      "outputs": [
        {
          "output_type": "stream",
          "text": [
            "Hypothesis testing for BM25 vs Tfidf using Mean Recall metric\n",
            "x-new method in this test, y- old method(Tfidf)\n",
            "null hypothesis: mean of x is less than or equal to mean of y\n",
            "alternate hypothesis: mean of x is greater than mean of y\n",
            "x_:0.30188562985358114 y_:0.29228076656552826 sx :0.00808946969840244 sy: 0.008283757156909804 sp: 0.008186613427656121\n",
            "Test statistic:  0.3356904961251618\n",
            "t-alpha:  1.3042302030325095\n",
            "p-value:  0.36947535044218993\n",
            "alpha:  0.1\n",
            "Conclusion: No evidence for proving new method is better\n"
          ],
          "name": "stdout"
        }
      ]
    },
    {
      "cell_type": "code",
      "metadata": {
        "colab": {
          "base_uri": "https://localhost:8080/"
        },
        "id": "b1LUDmQMkkI6",
        "outputId": "bbd9b3c5-e885-4b47-8d37-f256fe69dacc"
      },
      "source": [
        "print('Hypothesis testing for BM25+LSA vs Tfidf using Mean Recall metric')\n",
        "d_x = [q[3] for q in r5[3][0]]\n",
        "d_y = [q[3] for q in r2[3][0]]\n",
        "test(d_x,d_y,0.10)"
      ],
      "execution_count": 29,
      "outputs": [
        {
          "output_type": "stream",
          "text": [
            "Hypothesis testing for BM25+LSA vs Tfidf using Mean Recall metric\n",
            "x-new method in this test, y- old method(Tfidf)\n",
            "null hypothesis: mean of x is less than or equal to mean of y\n",
            "alternate hypothesis: mean of x is greater than mean of y\n",
            "x_:0.32768139103684235 y_:0.29228076656552826 sx :0.007616449673591167 sy: 0.008283757156909804 sp: 0.007950103415250485\n",
            "Test statistic:  1.2555225984658605\n",
            "t-alpha:  1.3042302030325095\n",
            "p-value:  0.10847740183166721\n",
            "alpha:  0.1\n",
            "Conclusion: No evidence for proving new method is better\n"
          ],
          "name": "stdout"
        }
      ]
    },
    {
      "cell_type": "code",
      "metadata": {
        "colab": {
          "base_uri": "https://localhost:8080/"
        },
        "id": "M2CkxMyOlL9p",
        "outputId": "68000b47-b8f5-4db5-b732-a249ae2431a9"
      },
      "source": [
        "print('Hypothesis testing for LSA vs Tfidf using Mean F-score metric')\n",
        "d_x = [q[4] for q in r1[3][0]]\n",
        "d_y = [q[4] for q in r2[3][0]]\n",
        "test(d_x,d_y,0.10)"
      ],
      "execution_count": 30,
      "outputs": [
        {
          "output_type": "stream",
          "text": [
            "Hypothesis testing for LSA vs Tfidf using Mean F-score metric\n",
            "x-new method in this test, y- old method(Tfidf)\n",
            "null hypothesis: mean of x is less than or equal to mean of y\n",
            "alternate hypothesis: mean of x is greater than mean of y\n",
            "x_:0.33889946172716 y_:0.33100601541598923 sx :0.007468404391565679 sy: 0.008343585799317679 sp: 0.00790599509544168\n",
            "Test statistic:  0.28072971778825784\n",
            "t-alpha:  1.3042302030325095\n",
            "p-value:  0.39022027451388963\n",
            "alpha:  0.1\n",
            "Conclusion: No evidence for proving new method is better\n"
          ],
          "name": "stdout"
        }
      ]
    },
    {
      "cell_type": "code",
      "metadata": {
        "colab": {
          "base_uri": "https://localhost:8080/"
        },
        "id": "wXXI17ZwlMpu",
        "outputId": "9e62c9d3-0e87-4d43-dbd7-5f5f674ca4c3"
      },
      "source": [
        "print('Hypothesis testing for LSA + Query Expansion vs Tfidf using Mean F-score metric')\n",
        "d_x = [q[4] for q in r3[3][0]]\n",
        "d_y = [q[4] for q in r2[3][0]]\n",
        "test(d_x,d_y,0.10)"
      ],
      "execution_count": 31,
      "outputs": [
        {
          "output_type": "stream",
          "text": [
            "Hypothesis testing for LSA + Query Expansion vs Tfidf using Mean F-score metric\n",
            "x-new method in this test, y- old method(Tfidf)\n",
            "null hypothesis: mean of x is less than or equal to mean of y\n",
            "alternate hypothesis: mean of x is greater than mean of y\n",
            "x_:0.3437235970512953 y_:0.33100601541598923 sx :0.008331741286741459 sy: 0.008343585799317679 sp: 0.00833766354302957\n",
            "Test statistic:  0.4404355350030516\n",
            "t-alpha:  1.3042302030325095\n",
            "p-value:  0.33105852111226497\n",
            "alpha:  0.1\n",
            "Conclusion: No evidence for proving new method is better\n"
          ],
          "name": "stdout"
        }
      ]
    },
    {
      "cell_type": "code",
      "metadata": {
        "colab": {
          "base_uri": "https://localhost:8080/"
        },
        "id": "Lyxg0k66lQTN",
        "outputId": "fb7f89bb-ca8d-493d-8ffa-1c7edf6696bb"
      },
      "source": [
        "print('Hypothesis testing for BM25 vs Tfidf using Mean F-score  metric')\n",
        "d_x = [q[4] for q in r4[3][0]]\n",
        "d_y = [q[4] for q in r2[3][0]]\n",
        "test(d_x,d_y,0.10)"
      ],
      "execution_count": 32,
      "outputs": [
        {
          "output_type": "stream",
          "text": [
            "Hypothesis testing for BM25 vs Tfidf using Mean F-score  metric\n",
            "x-new method in this test, y- old method(Tfidf)\n",
            "null hypothesis: mean of x is less than or equal to mean of y\n",
            "alternate hypothesis: mean of x is greater than mean of y\n",
            "x_:0.3431563886400467 y_:0.33100601541598923 sx :0.008035718980488098 sy: 0.008343585799317679 sp: 0.008189652389902888\n",
            "Test statistic:  0.42457741069146276\n",
            "t-alpha:  1.3042302030325095\n",
            "p-value:  0.3367695540229121\n",
            "alpha:  0.1\n",
            "Conclusion: No evidence for proving new method is better\n"
          ],
          "name": "stdout"
        }
      ]
    },
    {
      "cell_type": "code",
      "metadata": {
        "colab": {
          "base_uri": "https://localhost:8080/"
        },
        "id": "Z97qYvYslQ1n",
        "outputId": "f133a971-6dc4-4bf5-857b-e14311b60954"
      },
      "source": [
        "print('Hypothesis testing for BM25+LSA vs Tfidf using Mean F-score metric')\n",
        "d_x = [q[4] for q in r5[3][0]]\n",
        "d_y = [q[4] for q in r2[3][0]]\n",
        "test(d_x,d_y,0.10)"
      ],
      "execution_count": 33,
      "outputs": [
        {
          "output_type": "stream",
          "text": [
            "Hypothesis testing for BM25+LSA vs Tfidf using Mean F-score metric\n",
            "x-new method in this test, y- old method(Tfidf)\n",
            "null hypothesis: mean of x is less than or equal to mean of y\n",
            "alternate hypothesis: mean of x is greater than mean of y\n",
            "x_:0.3724511790816158 y_:0.33100601541598923 sx :0.006970533514920452 sy: 0.008343585799317679 sp: 0.007657059657119065\n",
            "Test statistic:  1.49776212343599\n",
            "t-alpha:  1.3042302030325095\n",
            "p-value:  0.07122825657419729\n",
            "alpha:  0.1\n",
            "Conclusion: mean of x is greater than mean of y (new method is better than old method)\n"
          ],
          "name": "stdout"
        }
      ]
    },
    {
      "cell_type": "code",
      "metadata": {
        "colab": {
          "base_uri": "https://localhost:8080/"
        },
        "id": "U1-EIqZU59Fx",
        "outputId": "224fb2ea-3415-4fde-e5cf-dd5fabfba5e9"
      },
      "source": [
        "#update these values from the ndcdg score of LSA and BM25 at k=3\n",
        "#a is the ndcdg score of LSA at k=3\n",
        "#b is the ndcdg score of BM25 at k=3\n",
        "a,b = 60.0,70.0\n",
        "alpha = a/(a+b) \n",
        "beta = 1-alpha\n",
        "print('From the above experiments we get: ')\n",
        "print('alpha (Weight for LSA) : ',alpha)\n",
        "print('beta (Weight for BM25): ',beta)"
      ],
      "execution_count": 34,
      "outputs": [
        {
          "output_type": "stream",
          "text": [
            "From the above experiments we get: \n",
            "alpha (Weight for LSA) :  0.46153846153846156\n",
            "beta (Weight for BM25):  0.5384615384615384\n"
          ],
          "name": "stdout"
        }
      ]
    }
  ]
}