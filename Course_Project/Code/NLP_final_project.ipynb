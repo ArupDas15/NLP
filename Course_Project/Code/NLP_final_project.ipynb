{
  "nbformat": 4,
  "nbformat_minor": 0,
  "metadata": {
    "colab": {
      "name": "NLP_final_project.ipynb",
      "provenance": [],
      "collapsed_sections": []
    },
    "kernelspec": {
      "name": "python3",
      "display_name": "Python 3"
    },
    "language_info": {
      "name": "python"
    }
  },
  "cells": [
    {
      "cell_type": "code",
      "metadata": {
        "id": "OMN_VWheumkw"
      },
      "source": [
        "#from google.colab import drive\n",
        "#drive.mount('/content/drive')"
      ],
      "execution_count": 103,
      "outputs": []
    },
    {
      "cell_type": "code",
      "metadata": {
        "id": "yxggxzbjg8Yz",
        "colab": {
          "base_uri": "https://localhost:8080/"
        },
        "outputId": "f2b6528c-c8df-4b76-e686-7fae590ff48e"
      },
      "source": [
        "!unzip /content/drive/MyDrive/Datasets/cranfield.zip\n",
        "#!unzip /content/cranfield.zip"
      ],
      "execution_count": 104,
      "outputs": [
        {
          "output_type": "stream",
          "text": [
            "unzip:  cannot find or open /content/drive/MyDrive/Datasets/cranfield.zip, /content/drive/MyDrive/Datasets/cranfield.zip.zip or /content/drive/MyDrive/Datasets/cranfield.zip.ZIP.\n"
          ],
          "name": "stdout"
        }
      ]
    },
    {
      "cell_type": "code",
      "metadata": {
        "id": "EWHnODNl79Pw",
        "colab": {
          "base_uri": "https://localhost:8080/"
        },
        "outputId": "65137172-b0f3-48b5-b9a4-734e67cc43ea"
      },
      "source": [
        "!pip install rank_bm25"
      ],
      "execution_count": 105,
      "outputs": [
        {
          "output_type": "stream",
          "text": [
            "Requirement already satisfied: rank_bm25 in /usr/local/lib/python3.7/dist-packages (0.2.1)\n",
            "Requirement already satisfied: numpy in /usr/local/lib/python3.7/dist-packages (from rank_bm25) (1.19.5)\n"
          ],
          "name": "stdout"
        }
      ]
    },
    {
      "cell_type": "code",
      "metadata": {
        "colab": {
          "base_uri": "https://localhost:8080/"
        },
        "id": "GTu-YRq0fw9z",
        "cellView": "form",
        "outputId": "12e57500-9c16-488e-e7d0-0c5621b68917"
      },
      "source": [
        "#@title Python libraries used in the project\n",
        "import sklearn\n",
        "from sklearn.feature_extraction.text import TfidfVectorizer\n",
        "from sklearn.decomposition import TruncatedSVD\n",
        "from sklearn.pipeline import Pipeline\n",
        "import numpy as np\n",
        "from nltk.tokenize import word_tokenize\n",
        "import string\n",
        "import nltk\n",
        "from nltk.corpus import stopwords\n",
        "from nltk.stem.porter import PorterStemmer\n",
        "import json\n",
        "from rank_bm25 import BM25Okapi\n",
        "nltk.download('punkt')\n",
        "nltk.download('stopwords')\n",
        "nltk.download('wordnet')\n"
      ],
      "execution_count": 106,
      "outputs": [
        {
          "output_type": "stream",
          "text": [
            "[nltk_data] Downloading package punkt to /root/nltk_data...\n",
            "[nltk_data]   Package punkt is already up-to-date!\n",
            "[nltk_data] Downloading package stopwords to /root/nltk_data...\n",
            "[nltk_data]   Package stopwords is already up-to-date!\n",
            "[nltk_data] Downloading package wordnet to /root/nltk_data...\n",
            "[nltk_data]   Package wordnet is already up-to-date!\n"
          ],
          "name": "stdout"
        },
        {
          "output_type": "execute_result",
          "data": {
            "text/plain": [
              "True"
            ]
          },
          "metadata": {
            "tags": []
          },
          "execution_count": 106
        }
      ]
    },
    {
      "cell_type": "code",
      "metadata": {
        "id": "UndOvWhNf6Ue",
        "cellView": "form"
      },
      "source": [
        "#@title Code for data preprocessing\n",
        "def data_preprocess(doc):\n",
        "  tokens = word_tokenize(doc)\n",
        "  # convert to lower case \n",
        "  tokens = [w.lower() for w in tokens]\n",
        "  # remove punctuation from each word\n",
        "  table = str.maketrans('', '', string.punctuation)\n",
        "  stripped = [w.translate(table) for w in tokens]\n",
        "  # remove remaining tokens that are not alphabetic\n",
        "  words = [word for word in stripped if word.isalpha()]\n",
        "  # filter out stop words\n",
        "  stop_words = set(stopwords.words('english'))\n",
        "  words = [w for w in words if not w in stop_words]\n",
        "  # stemming of words\n",
        "  porter = PorterStemmer()\n",
        "  stemmed = [porter.stem(word) for word in words]\n",
        "  return stemmed"
      ],
      "execution_count": 107,
      "outputs": []
    },
    {
      "cell_type": "code",
      "metadata": {
        "id": "lPynd7wLhHuX",
        "cellView": "form"
      },
      "source": [
        "#@title Code for evaluation\n",
        "import math\n",
        "import os\n",
        "\n",
        "# Add your import statements here\n",
        "from collections import defaultdict\n",
        "\n",
        "\n",
        "\n",
        "class Evaluation():\n",
        "    def __init__(self):\n",
        "      self.qr=None #This dictionary holds the list of relevant documents for a particular query\n",
        "    def build_qr(self,q_rels):\n",
        "      #This function populates the self.qr dictionary which has relevant document lists as values and\n",
        "      #query ids as keys of the dictionary\n",
        "      qr = defaultdict(list)\n",
        "      for dc in q_rels:\n",
        "        qr[int(dc['query_num'])].append(int(dc['id']))\n",
        "      self.qr=qr\n",
        "    def get_docid(self,query_id,qrels):\n",
        "      result = list(filter(lambda query: query['query_num'] == str(query_id), qrels))\n",
        "      doc_id = []\n",
        "      for d in result:\n",
        "        for k, v in d.items():\n",
        "          if k == \"id\":\n",
        "            doc_id.append(v)\n",
        "      return doc_id\n",
        "\n",
        "    def get_rel_score(self, query_id,element, qrels):\n",
        "      result = list(filter(lambda query: query['query_num'] == str(query_id), qrels))\n",
        "      doc_id = []\n",
        "      rel_score = []\n",
        "      for d in result:\n",
        "        for k, v in d.items():\n",
        "          if k == \"id\":\n",
        "            doc_id.append(v)\n",
        "          if k == \"position\":\n",
        "            # Measuring the relevance score in a scale of 0-3 where integer with higher value has greater relevance\n",
        "            rel_score.append(4-int(v))\n",
        "\n",
        "      relavant_score = rel_score[doc_id.index(element)]\n",
        "      return relavant_score\n",
        "\n",
        "    def queryPrecision(self, query_doc_IDs_ordered, query_id, true_doc_IDs, k):\n",
        "      \"\"\"\n",
        "      Computation of precision of the Information Retrieval System\n",
        "      at a given value of k for a single query\n",
        "\n",
        "      Parameters\n",
        "      ----------\n",
        "      arg1 : list\n",
        "        A list of integers denoting the IDs of documents in\n",
        "        their predicted order of relevance to a query\n",
        "      arg2 : int\n",
        "        The ID of the query in question\n",
        "      arg3 : list\n",
        "        The list of IDs of documents relevant to the query (ground truth)\n",
        "      arg4 : int\n",
        "        The k value\n",
        "\n",
        "      Returns\n",
        "      -------\n",
        "      float\n",
        "        The precision value as a number between 0 and 1\n",
        "      \"\"\"\n",
        "\n",
        "      precision = 0\n",
        "\n",
        "      #Fill in code here\n",
        "      count = 1\n",
        "      for element in query_doc_IDs_ordered:\n",
        "        # Find the number of relevant documents in top k results\n",
        "        if count <= k:\n",
        "          # if the document is present in the relevant document list then increment precision count by 1.\n",
        "          if str(element) in true_doc_IDs:\n",
        "            precision = precision + 1\n",
        "        count = count + 1\n",
        "      if k== 0:\n",
        "        precision = 1\n",
        "      else:\n",
        "        # Dividing precision by number of documents retrieved at rank 'k'\n",
        "        precision = precision / k\n",
        "\n",
        "      return precision\n",
        "\n",
        "\n",
        "    def meanPrecision(self, doc_IDs_ordered, query_ids, qrels, k):\n",
        "      \"\"\"\n",
        "      Computation of precision of the Information Retrieval System\n",
        "      at a given value of k, averaged over all the queries\n",
        "\n",
        "      Parameters\n",
        "      ----------\n",
        "      arg1 : list\n",
        "        A list of lists of integers where the ith sub-list is a list of IDs\n",
        "        of documents in their predicted order of relevance to the ith query\n",
        "      arg2 : list\n",
        "        A list of IDs of the queries for which the documents are ordered\n",
        "      arg3 : list\n",
        "        A list of dictionaries containing document-relevance\n",
        "        judgements - Refer cran_qrels.json for the structure of each\n",
        "        dictionary\n",
        "      arg4 : int\n",
        "        The k value\n",
        "\n",
        "      Returns\n",
        "      -------\n",
        "      float\n",
        "        The mean precision value as a number between 0 and 1\n",
        "      \"\"\"\n",
        "\n",
        "      meanPrecision = -1\n",
        "\n",
        "      #Fill in code here\n",
        "      n = 0\n",
        "      sum = 0\n",
        "      for l in doc_IDs_ordered:\n",
        "        if n==len(query_ids):break\n",
        "        doc_id = self.get_docid(query_ids[n], qrels)\n",
        "        sum = sum + self.queryPrecision(l, query_ids[n], doc_id, k)\n",
        "        n = n + 1\n",
        "      if len(doc_IDs_ordered) == 0:\n",
        "        meanPrecision = 1\n",
        "      else:\n",
        "        # Finding the average of all precision values corresponding to different queries\n",
        "        meanPrecision = sum / len(doc_IDs_ordered)\n",
        "      return meanPrecision\n",
        "\n",
        "\n",
        "    def queryRecall(self, query_doc_IDs_ordered, query_id, true_doc_IDs, k):\n",
        "      \"\"\"\n",
        "      Computation of recall of the Information Retrieval System\n",
        "      at a given value of k for a single query\n",
        "\n",
        "      Parameters\n",
        "      ----------\n",
        "      arg1 : list\n",
        "        A list of integers denoting the IDs of documents in\n",
        "        their predicted order of relevance to a query\n",
        "      arg2 : int\n",
        "        The ID of the query in question\n",
        "      arg3 : list\n",
        "        The list of IDs of documents relevant to the query (ground truth)\n",
        "      arg4 : int\n",
        "        The k value\n",
        "\n",
        "      Returns\n",
        "      -------\n",
        "      float\n",
        "        The recall value as a number between 0 and 1\n",
        "      \"\"\"\n",
        "\n",
        "      recall = 0\n",
        "\n",
        "      #Fill in code here\n",
        "      count = 1\n",
        "      for element in query_doc_IDs_ordered:\n",
        "        # Find the number of relevant documents in top k results\n",
        "        if count <= k:\n",
        "          # if the document is present in the relevant document list then increment recall count by 1.\n",
        "          if str(element) in true_doc_IDs:\n",
        "            recall = recall + 1\n",
        "        count = count + 1\n",
        "      if len(true_doc_IDs) == 0:\n",
        "        recall = 1\n",
        "      else:\n",
        "        # Dividing recall by number of relevant documents\n",
        "        recall = recall / len(true_doc_IDs)\n",
        "\n",
        "      return recall\n",
        "\n",
        "\n",
        "    def meanRecall(self, doc_IDs_ordered, query_ids, qrels, k):\n",
        "      \"\"\"\n",
        "      Computation of recall of the Information Retrieval System\n",
        "      at a given value of k, averaged over all the queries\n",
        "\n",
        "      Parameters\n",
        "      ----------\n",
        "      arg1 : list\n",
        "        A list of lists of integers where the ith sub-list is a list of IDs\n",
        "        of documents in their predicted order of relevance to the ith query\n",
        "      arg2 : list\n",
        "        A list of IDs of the queries for which the documents are ordered\n",
        "      arg3 : list\n",
        "        A list of dictionaries containing document-relevance\n",
        "        judgements - Refer cran_qrels.json for the structure of each\n",
        "        dictionary\n",
        "      arg4 : int\n",
        "        The k value\n",
        "\n",
        "      Returns\n",
        "      -------\n",
        "      float\n",
        "        The mean recall value as a number between 0 and 1\n",
        "      \"\"\"\n",
        "\n",
        "      meanRecall = -1\n",
        "\n",
        "      #Fill in code here\n",
        "      n = 0\n",
        "      sum = 0\n",
        "      for l in doc_IDs_ordered:\n",
        "        if n==len(query_ids):break\n",
        "        doc_id = self.get_docid(query_ids[n], qrels)\n",
        "        sum = sum + self.queryRecall(l,query_ids[n],doc_id,k)\n",
        "        n = n + 1\n",
        "      if len(doc_IDs_ordered) == 0:\n",
        "        meanRecall = 1\n",
        "      else:\n",
        "        # Finding the average of all recall values corresponding to different queries\n",
        "        meanRecall = sum / len(doc_IDs_ordered)\n",
        "      return meanRecall\n",
        "\n",
        "    def queryFscore(self, query_doc_IDs_ordered, query_id, true_doc_IDs, k):\n",
        "      \"\"\"\n",
        "      Computation of fscore of the Information Retrieval System\n",
        "      at a given value of k for a single query\n",
        "\n",
        "      Parameters\n",
        "      ----------\n",
        "      arg1 : list\n",
        "        A list of integers denoting the IDs of documents in\n",
        "        their predicted order of relevance to a query\n",
        "      arg2 : int\n",
        "        The ID of the query in question\n",
        "      arg3 : list\n",
        "        The list of IDs of documents relevant to the query (ground truth)\n",
        "      arg4 : int\n",
        "        The k value\n",
        "\n",
        "      Returns\n",
        "      -------\n",
        "      float\n",
        "        The fscore value as a number between 0 and 1\n",
        "      \"\"\"\n",
        "\n",
        "      fscore = -1\n",
        "\n",
        "      #Fill in code here\n",
        "      precision = self.queryPrecision(query_doc_IDs_ordered, query_id, true_doc_IDs, k)\n",
        "      recall = self.queryRecall(query_doc_IDs_ordered, query_id, true_doc_IDs, k)\n",
        "      # This will happen when there are no relevant documents in top k results\n",
        "      if precision + recall == 0:\n",
        "        fscore = 0\n",
        "      else:\n",
        "        fscore = (2 * precision * recall) / (precision + recall)\n",
        "\n",
        "      return fscore\n",
        "\n",
        "    def meanFscore(self, doc_IDs_ordered, query_ids, qrels, k):\n",
        "      \"\"\"\n",
        "      Computation of fscore of the Information Retrieval System\n",
        "      at a given value of k, averaged over all the queries\n",
        "\n",
        "      Parameters\n",
        "      ----------\n",
        "      arg1 : list\n",
        "        A list of lists of integers where the ith sub-list is a list of IDs\n",
        "        of documents in their predicted order of relevance to the ith query\n",
        "      arg2 : list\n",
        "        A list of IDs of the queries for which the documents are ordered\n",
        "      arg3 : list\n",
        "        A list of dictionaries containing document-relevance\n",
        "        judgements - Refer cran_qrels.json for the structure of each\n",
        "        dictionary\n",
        "      arg4 : int\n",
        "        The k value\n",
        "\n",
        "      Returns\n",
        "      -------\n",
        "      float\n",
        "        The mean fscore value as a number between 0 and 1\n",
        "      \"\"\"\n",
        "\n",
        "      meanFscore = -1\n",
        "\n",
        "      # Fill in code here\n",
        "      n = 0\n",
        "      sum = 0\n",
        "      for l in doc_IDs_ordered:\n",
        "        if n==len(query_ids):break\n",
        "        doc_id = self.get_docid(query_ids[n], qrels)\n",
        "        sum = sum + self.queryFscore(l, query_ids[n], doc_id, k)\n",
        "        n = n + 1\n",
        "      # Finding the average of all fscore values corresponding to different queries\n",
        "      meanFscore = sum / len(doc_IDs_ordered)\n",
        "      return meanFscore\n",
        "\n",
        "\n",
        "    def queryNDCG(self, query_doc_IDs_ordered, query_id, true_doc_IDs, k):\n",
        "      \"\"\"\n",
        "      Computation of nDCG of the Information Retrieval System\n",
        "      at given value of k for a single query\n",
        "\n",
        "      Parameters\n",
        "      ----------\n",
        "      arg1 : list\n",
        "        A list of integers denoting the IDs of documents in\n",
        "        their predicted order of relevance to a query\n",
        "      arg2 : int\n",
        "        The ID of the query in question\n",
        "      arg3 : list\n",
        "        The list of IDs of documents relevant to the query (ground truth)\n",
        "      arg4 : int\n",
        "        The k value\n",
        "\n",
        "      Returns\n",
        "      -------\n",
        "      float\n",
        "        The nDCG value as a number between 0 and 1\n",
        "      \"\"\"\n",
        "\n",
        "      nDCG = -1\n",
        "\n",
        "      #Fill in code here\n",
        "      DCG = 0\n",
        "      IDCG = 0\n",
        "      #path=os.path.join(os.getcwd(),\"cranfield\",\"cran_qrels.json\")\n",
        "      qrels = json.load(open('/content/cranfield/cran_qrels.json', 'r'))[:]\n",
        "      count = 1\n",
        "      for element in query_doc_IDs_ordered:\n",
        "        if count <= k:\n",
        "          if str(element) in true_doc_IDs:\n",
        "            DCG = DCG + (self.get_rel_score(query_id, str(element), qrels) / math.log2(query_doc_IDs_ordered.index(element) + 2))\n",
        "          count = count + 1\n",
        "      count = 1\n",
        "      for element in true_doc_IDs:\n",
        "        if count <= k:\n",
        "          IDCG = IDCG + (self.get_rel_score(query_id,element,qrels) / math.log2(count + 1))\n",
        "          count = count + 1\n",
        "      # When there are no documents in the ideally relevant to the query then there are no documents to display.\n",
        "      # Thus the relevance score is 1.\n",
        "      if IDCG == 0:\n",
        "        IDCG = 1\n",
        "      nDCG = DCG / IDCG\n",
        "      return nDCG\n",
        "\n",
        "\n",
        "    def meanNDCG(self, doc_IDs_ordered, query_ids, qrels, k):\n",
        "      \"\"\"\n",
        "      Computation of nDCG of the Information Retrieval System\n",
        "      at a given value of k, averaged over all the queries\n",
        "\n",
        "      Parameters\n",
        "      ----------\n",
        "      arg1 : list\n",
        "        A list of lists of integers where the ith sub-list is a list of IDs\n",
        "        of documents in their predicted order of relevance to the ith query\n",
        "      arg2 : list\n",
        "        A list of IDs of the queries for which the documents are ordered\n",
        "      arg3 : list\n",
        "        A list of dictionaries containing document-relevance\n",
        "        judgements - Refer cran_qrels.json for the structure of each\n",
        "        dictionary\n",
        "      arg4 : int\n",
        "        The k value\n",
        "\n",
        "      Returns\n",
        "      -------\n",
        "      float\n",
        "        The mean nDCG value as a number between 0 and 1\n",
        "      \"\"\"\n",
        "\n",
        "      meanNDCG = -1\n",
        "\n",
        "      #Fill in code here\n",
        "      n = 0\n",
        "      sum = 0\n",
        "      qrels = sorted(qrels, key=lambda i: (i['position']))\n",
        "      for l in doc_IDs_ordered:\n",
        "        if n==len(query_ids): break\n",
        "        result = list(filter(lambda query: query['query_num'] == str(query_ids[n]), qrels))\n",
        "        true_doc_IDs = []\n",
        "        for d in result:\n",
        "          for ky, val in d.items():\n",
        "            if ky == \"id\":\n",
        "              true_doc_IDs.append(val)\n",
        "        nDCG=self.queryNDCG(l, query_ids[n], true_doc_IDs, k)\n",
        "        sum = sum + nDCG\n",
        "        n = n + 1\n",
        "      # Finding the average of all nDCG values corresponding to different queries\n",
        "      meanNDCG = sum/len(doc_IDs_ordered)\n",
        "      return meanNDCG\n",
        "\n",
        "\n",
        "    def queryAveragePrecision(self, query_doc_IDs_ordered, query_id, true_doc_IDs, k):\n",
        "      \"\"\"\n",
        "      Computation of average precision of the Information Retrieval System\n",
        "      at a given value of k for a single query (the average of precision@i\n",
        "      values for i such that the ith document is truly relevant)\n",
        "\n",
        "      Parameters\n",
        "      ----------\n",
        "      arg1 : list\n",
        "        A list of integers denoting the IDs of documents in\n",
        "        their predicted order of relevance to a query\n",
        "      arg2 : int\n",
        "        The ID of the query in question\n",
        "      arg3 : list\n",
        "        The list of documents relevant to the query (ground truth)\n",
        "      arg4 : int\n",
        "        The k value\n",
        "\n",
        "      Returns\n",
        "      -------\n",
        "      float\n",
        "        The average precision value as a number between 0 and 1\n",
        "      \"\"\"\n",
        "\n",
        "      avgPrecision = -1\n",
        "\n",
        "      #Fill in code here\n",
        "      pdl=query_doc_IDs_ordered\n",
        "      rdl=true_doc_IDs\n",
        "      for j in range(len(pdl)):\n",
        "        if pdl[j] in rdl:\n",
        "          pdl[j] = 1\n",
        "        else:\n",
        "          pdl[j] = 0\n",
        "      ap = 0\n",
        "      for j in range(len(pdl)):\n",
        "        ap += (sum(pdl[:(j + 1)]) * 1.0 / (j + 1))\n",
        "      ap /= len(pdl)\n",
        "      avgPrecision=ap\n",
        "      return avgPrecision\n",
        "\n",
        "\n",
        "    def meanAveragePrecision(self, doc_IDs_ordered, query_ids, q_rels, k):\n",
        "      \"\"\"\n",
        "      Computation of MAP of the Information Retrieval System\n",
        "      at given value of k, averaged over all the queries\n",
        "\n",
        "      Parameters\n",
        "      ----------\n",
        "      arg1 : list\n",
        "        A list of lists of integers where the ith sub-list is a list of IDs\n",
        "        of documents in their predicted order of relevance to the ith query\n",
        "      arg2 : list\n",
        "        A list of IDs of the queries\n",
        "      arg3 : list\n",
        "        A list of dictionaries containing document-relevance\n",
        "        judgements - Refer cran_qrels.json for the structure of each\n",
        "        dictionary\n",
        "      arg4 : int\n",
        "        The k value\n",
        "\n",
        "      Returns\n",
        "      -------\n",
        "      float\n",
        "        The MAP value as a number between 0 and 1\n",
        "      \"\"\"\n",
        "\n",
        "      meanAveragePrecision = -1\n",
        "\n",
        "      #Fill in code here\n",
        "      MAP = 0\n",
        "      # preprocess q_rels\n",
        "      self.build_qr(q_rels)\n",
        "      qr = self.qr\n",
        "\n",
        "      for i in range(len(query_ids)):\n",
        "        # print(len(doc_IDs_ordered_all),len(query_ids))\n",
        "        pdl = doc_IDs_ordered[i][:k]\n",
        "        rdl = qr[int(query_ids[i])]\n",
        "        #print(pdl[:10], rdl)\n",
        "        for j in range(len(pdl)):\n",
        "          if pdl[j] in rdl:\n",
        "            pdl[j] = 1\n",
        "          else:\n",
        "            pdl[j] = 0\n",
        "        ap = 0\n",
        "        for j in range(len(pdl)):\n",
        "          ap += (sum(pdl[:(j + 1)]) * 1.0 / (j + 1))\n",
        "        ap /= len(pdl)\n",
        "        MAP += ap\n",
        "      MAP /= len(query_ids)\n",
        "      meanAveragePrecision=MAP\n",
        "\n",
        "\n",
        "      return meanAveragePrecision\n",
        "\n"
      ],
      "execution_count": 108,
      "outputs": []
    },
    {
      "cell_type": "code",
      "metadata": {
        "id": "pX1_aewCf8kD",
        "cellView": "form"
      },
      "source": [
        "#@title Function for old method (Tfidf)\n",
        "def train_old(k):\n",
        "  #without SVD\n",
        "  import json\n",
        "  dj = json.load(open('/content/cranfield/cran_docs.json', 'r'))\n",
        "  docs,dids=[item['body'] for item in dj],[item['id'] for item in dj]\n",
        "  qj = json.load(open('/content/cranfield/cran_queries.json', 'r'))\n",
        "  qrs,qids=[item['query'] for item in qj],[item['query number'] for item in qj]\n",
        "  #print(len(dids),len(qids))\n",
        "  qrels=json.load(open('/content/cranfield/cran_qrels.json', 'r'))\n",
        "  eval=Evaluation()\n",
        "  vectorizer = TfidfVectorizer(tokenizer=data_preprocess,stop_words=None, \n",
        "                             use_idf=True, \n",
        "                             smooth_idf=True,max_df=0.6)\n",
        "  dvecs1=vectorizer.fit_transform(docs).todense()\n",
        "  qvecs1=vectorizer.transform(qrs).todense()\n",
        "  \n",
        "  B=sklearn.metrics.pairwise.cosine_similarity(qvecs1,dvecs1)\n",
        "\n",
        "  pred_ids=np.zeros((255,k),dtype=int)\n",
        "  for i in range(0,225):\n",
        "    x=np.argsort(B[i]).T[::-1][:k]\n",
        "    j=0\n",
        "    for y in x:\n",
        "      pred_ids[i][j]=dids[y]\n",
        "      j+=1\n",
        "  pdl=pred_ids.tolist()\n",
        "\n",
        "  results1=[]\n",
        "  for i in range(20):\n",
        "    s=i*10\n",
        "    e=s+10\n",
        "    results1.append([eval.meanAveragePrecision(pdl[s:e],qids[s:e],qrels,k),eval.meanNDCG(pdl[s:e],qids[s:e],qrels,k),eval.meanPrecision(pdl[s:e],qids[s:e],qrels,k),eval.meanRecall(pdl[s:e],qids[s:e],qrels,k),eval.meanFscore(pdl[s:e],qids[s:e],qrels,k)])\n",
        "  print('Using old method- k: '+str(k)+' nDCG: '+str(eval.meanNDCG(pdl,qids,qrels,k)))\n",
        "  if k==3:\n",
        "    rf=open('Tfidf.csv','w')\n",
        "    rf.write('MAP,NDCG,MeanPrecision,MeanRecall,MeanFscore\\n')\n",
        "    for x in results1:\n",
        "      rf.write(str(x[0])+','+str(x[1])+','+str(x[2])+','+str(x[3])+','+str(x[4])+'\\n')\n",
        "    rf.close()\n",
        "  return results1,eval.meanNDCG(pdl,qids,qrels,k),eval.meanAveragePrecision(pdl,qids,qrels,k),eval.meanRecall(pdl,qids,qrels,k),eval.meanFscore(pdl,qids,qrels,k)\n",
        "\n",
        "  "
      ],
      "execution_count": 109,
      "outputs": []
    },
    {
      "cell_type": "code",
      "metadata": {
        "id": "PKSe9GyLgDmt",
        "cellView": "form"
      },
      "source": [
        "#@title Function for using LSA\n",
        "def train_new(k):\n",
        "  import json\n",
        "  dj = json.load(open('/content/cranfield/cran_docs.json', 'r'))\n",
        "  docs,dids=[item['body']+' '+item['title'] for item in dj],[item['id'] for item in dj]\n",
        "  qj = json.load(open('/content/cranfield/cran_queries.json', 'r'))\n",
        "  qrs,qids=[item['query'] for item in qj],[item['query number'] for item in qj]\n",
        "  #print(len(dids),len(qids))\n",
        "  #k=5\n",
        "  vectorizer = TfidfVectorizer(tokenizer=data_preprocess,stop_words=None, \n",
        "                             use_idf=True, \n",
        "                             smooth_idf=True,max_df=0.9,ngram_range=(1,2))\n",
        "  svd_model = TruncatedSVD(n_components=500,         \n",
        "                          algorithm='randomized',\n",
        "                          n_iter=10)\n",
        "  svd_transformer = Pipeline([('tfidf', vectorizer), \n",
        "                              ('svd', svd_model)])\n",
        "  dvecs=svd_transformer.fit_transform(docs)\n",
        "  from scipy.sparse import csr_matrix\n",
        "  #qvecs_qe=np.dot(vectorizer.transform(qrs).todense(),wsim)\n",
        "  #qvecs=np.dot(qvecs_qe,svd_model.components_.T)\n",
        "  qvecs=svd_transformer.transform(qrs)\n",
        "  #print(qvecs.shape)\n",
        "  A=sklearn.metrics.pairwise.cosine_similarity(qvecs,dvecs)\n",
        "  pred_ids=np.zeros((255,k),dtype=int)\n",
        "  for i in range(0,225):\n",
        "    x=np.argsort(A[i]).T[::-1][:k]\n",
        "    j=0\n",
        "    for y in x:\n",
        "      pred_ids[i][j]=dids[y]\n",
        "      j+=1\n",
        "  pdl=pred_ids.tolist()\n",
        "  qrels=json.load(open('/content/cranfield/cran_qrels.json', 'r'))\n",
        "  eval=Evaluation()\n",
        "  results=[]\n",
        "  for i in range(20):\n",
        "    s=i*10\n",
        "    e=s+10\n",
        "    results.append([eval.meanAveragePrecision(pdl[s:e],qids[s:e],qrels,k),eval.meanNDCG(pdl[s:e],qids[s:e],qrels,k),eval.meanPrecision(pdl[s:e],qids[s:e],qrels,k),eval.meanRecall(pdl[s:e],qids[s:e],qrels,k),eval.meanFscore(pdl[s:e],qids[s:e],qrels,k)])\n",
        "  print('Using new method using LSA- k: '+str(k)+' nDCG: '+str(eval.meanNDCG(pdl,qids,qrels,k)))\n",
        "  if k==3:\n",
        "    rf=open('LSA.csv','w')\n",
        "    rf.write('MAP,NDCG,MeanPrecision,MeanRecall,MeanFscore\\n')\n",
        "    for x in results:\n",
        "      rf.write(str(x[0])+','+str(x[1])+','+str(x[2])+','+str(x[3])+','+str(x[4])+'\\n')\n",
        "    rf.close()\n",
        "  return results,eval.meanNDCG(pdl,qids,qrels,k),eval.meanAveragePrecision(pdl,qids,qrels,k),eval.meanRecall(pdl,qids,qrels,k),eval.meanFscore(pdl,qids,qrels,k)\n"
      ],
      "execution_count": 110,
      "outputs": []
    },
    {
      "cell_type": "code",
      "metadata": {
        "id": "h2LROakM6VFx",
        "cellView": "form"
      },
      "source": [
        "#@title Using both bm25 and LSA\n",
        "def data_preprocess1(docs):\n",
        "  doc_list=[]\n",
        "  for every_doc in docs:\n",
        "    tokens = word_tokenize(every_doc)\n",
        "    # convert to lower case \n",
        "    tokens = [w.lower() for w in tokens]\n",
        "    # remove punctuation from each word\n",
        "    table = str.maketrans('', '', string.punctuation)\n",
        "    stripped = [w.translate(table) for w in tokens]\n",
        "    # remove remaining tokens that are not alphabetic\n",
        "    words = [word for word in stripped if word.isalpha()]\n",
        "    # filter out stop words\n",
        "    stop_words = set(stopwords.words('english'))\n",
        "    words = [w for w in words if not w in stop_words]\n",
        "    # stemming of words\n",
        "    porter = PorterStemmer()\n",
        "    stemmed = [porter.stem(word) for word in tokens]\n",
        "    doc_list.append(stemmed)\n",
        "  return doc_list\n",
        "\n",
        "def get_wsim():\n",
        "  import json\n",
        "  dj = json.load(open('/content/cranfield/cran_docs.json', 'r'))\n",
        "  docs,dids=[item['body']+' '+item['title'] for item in dj],[item['id'] for item in dj]\n",
        "  qj = json.load(open('/content/cranfield/cran_queries.json', 'r'))\n",
        "  qrs,qids=[item['query'] for item in qj],[item['query number'] for item in qj]\n",
        "  vectorizer = TfidfVectorizer(tokenizer=data_preprocess,stop_words=None, \n",
        "                             use_idf=True, \n",
        "                             smooth_idf=True,max_df=0.9)\n",
        "  svd_model = TruncatedSVD(n_components=325,         \n",
        "                          algorithm='randomized',\n",
        "                          n_iter=10)\n",
        "  svd_transformer = Pipeline([('tfidf', vectorizer), \n",
        "                              ('svd', svd_model)])\n",
        "  dvecs=svd_transformer.fit_transform(docs)\n",
        "  wsim=sklearn.metrics.pairwise.cosine_similarity(svd_model.components_.T,svd_model.components_.T)\n",
        "  v = vectorizer.get_feature_names()\n",
        "  return wsim, v\n",
        "def train_mixed(k,k1=1,k2=1):\n",
        "  import json\n",
        "  dj = json.load(open('/content/cranfield/cran_docs.json', 'r'))\n",
        "  docs,dids=[item['body']+' '+item['title'] for item in dj],[item['id'] for item in dj]\n",
        "  qj = json.load(open('/content/cranfield/cran_queries.json', 'r'))\n",
        "  qrs,qids=[item['query'] for item in qj],[item['query number'] for item in qj]\n",
        "  tot_query = len(qids)\n",
        "  pred_ids=np.zeros((tot_query,k),dtype=int)\n",
        "  tokenized_corpus = data_preprocess1(docs)\n",
        "  tokenized_query = data_preprocess1(qrs)\n",
        "  bm25 = BM25Okapi(tokenized_corpus)\n",
        "  vectorizer = TfidfVectorizer(tokenizer=data_preprocess,stop_words=None, \n",
        "                             use_idf=True, \n",
        "                             smooth_idf=True,max_df=0.9,ngram_range=(1,2))\n",
        "  svd_model = TruncatedSVD(n_components=500,         \n",
        "                          algorithm='randomized',\n",
        "                          n_iter=10)\n",
        "  svd_transformer = Pipeline([('tfidf', vectorizer), \n",
        "                              ('svd', svd_model)])\n",
        "  dvecs=svd_transformer.fit_transform(docs)\n",
        "  wsim, v =get_wsim()\n",
        "  \n",
        "  stop_words = set(stopwords.words('english')) \n",
        "  import random\n",
        "  for i in range(len(qrs)):\n",
        "    new_qr=qrs[i]\n",
        "    tkns=nltk.word_tokenize(qrs[i])\n",
        "    random.shuffle(tkns)\n",
        "    for x in tkns :\n",
        "      k2=k2-1\n",
        "      if k2<=0: break\n",
        "      if x not in stop_words:\n",
        "        try:\n",
        "          new_qr+=(' '+' '.join(getsyn(x,k1+1,v,wsim)[1:]))\n",
        "        except Exception:\n",
        "          pass\n",
        "    qrs[i]=new_qr\n",
        "  from scipy.sparse import csr_matrix\n",
        "  qvecs=svd_transformer.transform(qrs)\n",
        "  A=sklearn.metrics.pairwise.cosine_similarity(qvecs,dvecs)\n",
        "  A=(A-A.min(axis=1).reshape(-1,1))/A.max(axis=1).reshape(-1,1)\n",
        "  pred_ids=np.zeros((255,k),dtype=int)\n",
        "  alpha=41.67/(47.74+41.67)\n",
        "  for i in range(0,tot_query):\n",
        "    doc_scores = bm25.get_scores(tokenized_query[i])\n",
        "    doc_scores = (doc_scores-doc_scores.min(axis=0))/doc_scores.max(axis=0)\n",
        "    A[i]=alpha*A[i]+(1-alpha)*doc_scores.reshape(1,-1)\n",
        "  for i in range(0,225):\n",
        "    x=np.argsort(A[i]).T[::-1][:k]\n",
        "    j=0\n",
        "    for y in x:\n",
        "      pred_ids[i][j]=dids[y]\n",
        "      j+=1\n",
        "  pdl=pred_ids.tolist()\n",
        "  qrels=json.load(open('/content/cranfield/cran_qrels.json', 'r'))\n",
        "  eval=Evaluation()\n",
        "  results=[]\n",
        "  for i in range(20):\n",
        "    # start index - sed for slicing purpose\n",
        "    s=i*10\n",
        "    # end index\n",
        "    e=s+10\n",
        "    results.append([eval.meanAveragePrecision(pdl[s:e],qids[s:e],qrels,k),eval.meanNDCG(pdl[s:e],qids[s:e],qrels,k),eval.meanPrecision(pdl[s:e],qids[s:e],qrels,k),eval.meanRecall(pdl[s:e],qids[s:e],qrels,k),eval.meanFscore(pdl[s:e],qids[s:e],qrels,k)])\n",
        "  print('Using new method with bm25 and LSA- k: '+str(k)+' nDCG: '+str(eval.meanNDCG(pdl,qids,qrels,k)))\n",
        "  if k==3:\n",
        "    rf=open('LSA+BM25.csv','w')\n",
        "    rf.write('MAP,NDCG,MeanPrecision,MeanRecall,MeanFscore\\n')\n",
        "    for x in results:\n",
        "      rf.write(str(x[0])+','+str(x[1])+','+str(x[2])+','+str(x[3])+','+str(x[4])+'\\n')\n",
        "    rf.close()\n",
        "  return results,eval.meanNDCG(pdl,qids,qrels,k),eval.meanAveragePrecision(pdl,qids,qrels,k),eval.meanRecall(pdl,qids,qrels,k),eval.meanFscore(pdl,qids,qrels,k)"
      ],
      "execution_count": 111,
      "outputs": []
    },
    {
      "cell_type": "code",
      "metadata": {
        "id": "kqN1-yCvr-a1",
        "cellView": "form"
      },
      "source": [
        "#@title Function for LSA with Query expansion\n",
        "def getsyn(x,k,v,wsim):\n",
        "  # Parameters: \n",
        "  # x: the word for which sunonyms are required\n",
        "  # k: specifies the number of top k synonyms required.\n",
        "  # v: specifies the vocabulary list.\n",
        "  # wsim: word similarity matrix for the corresponding vocabulary v\n",
        "  # getsyn() returns a list of top-k synonyms\n",
        "\n",
        "  if x in v:\n",
        "    i= v.index(x)\n",
        "    y = np.argsort(wsim[i]).T[::-1][:k]\n",
        "    ans=[v[i] for i in y]\n",
        "    return ans\n",
        "  else:\n",
        "    return []\n",
        "\n",
        "def train_new_qe(k,k1,k2):\n",
        "  # Parameters\n",
        "  # k: top k retireval results\n",
        "  # k1: number of additional token to be added for every query token randomly chosen\n",
        "  # K2: Speciies how many new terms to add to the final expanded query.\n",
        "\n",
        "  import json\n",
        "  dj = json.load(open('/content/cranfield/cran_docs.json', 'r'))\n",
        "  docs,dids=[item['body']+' '+item['title'] for item in dj],[item['id'] for item in dj]\n",
        "  qj = json.load(open('/content/cranfield/cran_queries.json', 'r'))\n",
        "  qrs,qids=[item['query'] for item in qj],[item['query number'] for item in qj]\n",
        " \n",
        "  vectorizer = TfidfVectorizer(tokenizer=data_preprocess,stop_words=None, \n",
        "                             use_idf=True, \n",
        "                             smooth_idf=True,max_df=0.9)\n",
        "  svd_model = TruncatedSVD(n_components=325,         \n",
        "                          algorithm='randomized',\n",
        "                          n_iter=10)\n",
        "  #We define the pipeline where we first find the tfidf scores and then we do the svd decomposition.\n",
        "  svd_transformer = Pipeline([('tfidf', vectorizer), \n",
        "                              ('svd', svd_model)])\n",
        "  # We perform the opertions specified in the pipeline\n",
        "  dvecs=svd_transformer.fit_transform(docs)\n",
        "  # The wsim matix is used for query expansion.\n",
        "  wsim=sklearn.metrics.pairwise.cosine_similarity(svd_model.components_.T,svd_model.components_.T)\n",
        "  v=vectorizer.get_feature_names()\n",
        "  \n",
        "  stop_words = set(stopwords.words('english')) \n",
        "  # This is where we perform query expansion.\n",
        "  import random\n",
        "  for i in range(len(qrs)):\n",
        "    new_qr=qrs[i]\n",
        "    tkns=nltk.word_tokenize(qrs[i])\n",
        "    random.shuffle(tkns)\n",
        "    for x in tkns :\n",
        "      k2=k2-1\n",
        "      if k2<=0: break\n",
        "      if x not in stop_words:\n",
        "        try:\n",
        "          new_qr+=(' '+' '.join(getsyn(x,k1+1,v,wsim)[1:]))\n",
        "        except Exception:\n",
        "          pass\n",
        "   \n",
        "    qrs[i]=new_qr\n",
        "  from scipy.sparse import csr_matrix\n",
        " \n",
        "  qvecs=svd_transformer.transform(qrs)\n",
        "  \n",
        "  A=sklearn.metrics.pairwise.cosine_similarity(qvecs,dvecs)\n",
        "  pred_ids=np.zeros((255,k),dtype=int)\n",
        "  for i in range(0,225):\n",
        "    x=np.argsort(A[i]).T[::-1][:k]\n",
        "    j=0\n",
        "    for y in x:\n",
        "      pred_ids[i][j]=dids[y]\n",
        "      j+=1\n",
        "  pdl=pred_ids.tolist()\n",
        "  qrels=json.load(open('/content/cranfield/cran_qrels.json', 'r'))\n",
        "  eval=Evaluation()\n",
        "  results=[]\n",
        "  for i in range(20):\n",
        "    s=i*10\n",
        "    e=s+10\n",
        "    results.append([eval.meanAveragePrecision(pdl[s:e],qids[s:e],qrels,k),eval.meanNDCG(pdl[s:e],qids[s:e],qrels,k),eval.meanPrecision(pdl[s:e],qids[s:e],qrels,k),eval.meanRecall(pdl[s:e],qids[s:e],qrels,k),eval.meanFscore(pdl[s:e],qids[s:e],qrels,k)])\n",
        "  print('Using new method with query expansion- k: '+str(k)+' nDCG: '+str(eval.meanNDCG(pdl,qids,qrels,k)))\n",
        "  if k==3:\n",
        "    rf=open('LSA+QE.csv','w')\n",
        "    rf.write('MAP,NDCG,MeanPrecision,MeanRecall,MeanFscore\\n')\n",
        "    for x in results:\n",
        "      rf.write(str(x[0])+','+str(x[1])+','+str(x[2])+','+str(x[3])+','+str(x[4])+'\\n')\n",
        "    rf.close()\n",
        "  return results,eval.meanNDCG(pdl,qids,qrels,k),eval.meanAveragePrecision(pdl,qids,qrels,k),eval.meanRecall(pdl,qids,qrels,k),eval.meanFscore(pdl,qids,qrels,k)"
      ],
      "execution_count": 112,
      "outputs": []
    },
    {
      "cell_type": "code",
      "metadata": {
        "id": "wgBZN_aS9kPa",
        "cellView": "form"
      },
      "source": [
        "#@title BM25 code\n",
        "def train_bm25(k):\n",
        "  import json\n",
        "  dj = json.load(open('/content/cranfield/cran_docs.json', 'r'))\n",
        "  docs,dids=[item['body']+' '+item['title'] for item in dj],[item['id'] for item in dj]\n",
        "  qj = json.load(open('/content/cranfield/cran_queries.json', 'r'))\n",
        "  qrs,qids=[item['query'] for item in qj],[item['query number'] for item in qj]\n",
        "  tot_query = len(qids)\n",
        "  pred_ids=np.zeros((tot_query,k),dtype=int)\n",
        "  tokenized_corpus = data_preprocess1(docs)\n",
        "  tokenized_query = data_preprocess1(qrs)\n",
        "  bm25 = BM25Okapi(tokenized_corpus)\n",
        "\n",
        "  for i in range(0,tot_query):\n",
        "    doc_scores = bm25.get_scores(tokenized_query[i])\n",
        "    top_n = np.argsort(doc_scores)[::-1][:k]\n",
        "    index = 0\n",
        "    for j in top_n:\n",
        "      pred_ids[i][index]=dids[j]\n",
        "      index = index + 1\n",
        "  \n",
        "  pdl=pred_ids.tolist()\n",
        "  pdl\n",
        "  qrels=json.load(open('/content/cranfield/cran_qrels.json', 'r'))\n",
        "  eval=Evaluation()\n",
        "  results=[]\n",
        "  for i in range(20):\n",
        "    s=i*10\n",
        "    e=s+10\n",
        "    results.append([eval.meanAveragePrecision(pdl[s:e],qids[s:e],qrels,k),eval.meanNDCG(pdl[s:e],qids[s:e],qrels,k),eval.meanPrecision(pdl[s:e],qids[s:e],qrels,k),eval.meanRecall(pdl[s:e],qids[s:e],qrels,k),eval.meanFscore(pdl[s:e],qids[s:e],qrels,k)])\n",
        "  print('Using new method with bm25- k: '+str(k)+' nDCG: '+str(eval.meanNDCG(pdl,qids,qrels,k)))\n",
        "  if k==3:\n",
        "    rf=open('BM25.csv','w')\n",
        "    rf.write('MAP,NDCG,MeanPrecision,MeanRecall,MeanFscore\\n')\n",
        "    for x in results:\n",
        "      rf.write(str(x[0])+','+str(x[1])+','+str(x[2])+','+str(x[3])+','+str(x[4])+'\\n')\n",
        "    rf.close()\n",
        "  return results,eval.meanNDCG(pdl,qids,qrels,k),eval.meanAveragePrecision(pdl,qids,qrels,k),eval.meanRecall(pdl,qids,qrels,k),eval.meanFscore(pdl,qids,qrels,k)\n",
        "\n"
      ],
      "execution_count": 113,
      "outputs": []
    },
    {
      "cell_type": "code",
      "metadata": {
        "id": "wW169DmBgaO1",
        "cellView": "form"
      },
      "source": [
        "#@title Statistcal Hypothesis testing code\n",
        "import numpy as np\n",
        "from statistics import variance\n",
        "from scipy import stats\n",
        "\n",
        "def test(x,y,a):\n",
        "  print('x-new method in this test, y- old method(Tfidf)')\n",
        "  print('null hypothesis: mean of x is less than or equal to mean of y')\n",
        "  print('alternate hypothesis: mean of x is greater than mean of y')\n",
        "  n=len(x)\n",
        "  m=n\n",
        "  df=n+m-2\n",
        "  x_ , y_ = sum(x)/n, sum(y)/n\n",
        "  sx ,sy =variance(x),variance(y)\n",
        "  sp = ((n-1)*sx+(m-1)*sy)/(n+m-2)\n",
        "  ts = (x_ - y_)/(sp*(1/m+1/n))**0.5\n",
        "  z_a=stats.t.ppf(1-a,df)\n",
        "  print('x_:'+str(x_)+' y_:'+str(y_)+' sx :'+str(sx)+' sy: '+str(sy)+' sp: '+str(sp))\n",
        "  print('Test statistic: ',ts)\n",
        "  print('t-alpha: ',z_a)\n",
        "  print('p-value: ',1-stats.t.cdf(ts,df))\n",
        "  print('alpha: ',a)\n",
        "  if ts>z_a:\n",
        "    print(\"Conclusion: mean of x is greater than mean of y (new method is better than old method)\")\n",
        "  else:\n",
        "    print(\"Conclusion: No evidence for proving new method is better\")"
      ],
      "execution_count": 114,
      "outputs": []
    },
    {
      "cell_type": "code",
      "metadata": {
        "id": "AIXpzroqkDi4",
        "colab": {
          "base_uri": "https://localhost:8080/"
        },
        "outputId": "53294103-f944-473d-fb04-e8335060b68f"
      },
      "source": [
        "r5 = [train_mixed(i) for i in range(1,8)]\n",
        "r1 = [train_new(i) for i in range(1,8)]\n",
        "r2 = [train_old(i) for i in range(1,8)]\n",
        "r3 = [train_new_qe(i,1,3) for i in range(1,8)]\n",
        "r4 = [train_bm25(i) for i in range(1,8)]\n"
      ],
      "execution_count": 115,
      "outputs": [
        {
          "output_type": "stream",
          "text": [
            "Using new method with bm25 and LSA- k: 1 nDCG: 0.49150326797385613\n",
            "Using new method with bm25 and LSA- k: 2 nDCG: 0.4740417399670255\n",
            "Using new method with bm25 and LSA- k: 3 nDCG: 0.45458059668529754\n",
            "Using new method with bm25 and LSA- k: 4 nDCG: 0.44478218218021665\n",
            "Using new method with bm25 and LSA- k: 5 nDCG: 0.4385113115048196\n",
            "Using new method with bm25 and LSA- k: 6 nDCG: 0.44108371293297416\n",
            "Using new method with bm25 and LSA- k: 7 nDCG: 0.4459608479495091\n",
            "Using new method using LSA- k: 1 nDCG: 0.44836601307189533\n",
            "Using new method using LSA- k: 2 nDCG: 0.44573782849615695\n",
            "Using new method using LSA- k: 3 nDCG: 0.41595325108251896\n",
            "Using new method using LSA- k: 4 nDCG: 0.40946282317280974\n",
            "Using new method using LSA- k: 5 nDCG: 0.4100079995768538\n",
            "Using new method using LSA- k: 6 nDCG: 0.41442652776263766\n",
            "Using new method using LSA- k: 7 nDCG: 0.4209083609859677\n",
            "Using old method- k: 1 nDCG: 0.43398692810457506\n",
            "Using old method- k: 2 nDCG: 0.40467793251684714\n",
            "Using old method- k: 3 nDCG: 0.3986903871344856\n",
            "Using old method- k: 4 nDCG: 0.393252324073321\n",
            "Using old method- k: 5 nDCG: 0.3881879079605369\n",
            "Using old method- k: 6 nDCG: 0.39466918586260985\n",
            "Using old method- k: 7 nDCG: 0.40174312332529594\n",
            "Using new method with query expansion- k: 1 nDCG: 0.46274509803921565\n",
            "Using new method with query expansion- k: 2 nDCG: 0.4360631384706613\n",
            "Using new method with query expansion- k: 3 nDCG: 0.41775979965735494\n",
            "Using new method with query expansion- k: 4 nDCG: 0.4157659866238953\n",
            "Using new method with query expansion- k: 5 nDCG: 0.4103426118985288\n",
            "Using new method with query expansion- k: 6 nDCG: 0.41214665860342875\n",
            "Using new method with query expansion- k: 7 nDCG: 0.4212818927001493\n",
            "Using new method with bm25- k: 1 nDCG: 0.5303703703703703\n",
            "Using new method with bm25- k: 2 nDCG: 0.4981955604737549\n",
            "Using new method with bm25- k: 3 nDCG: 0.47735795381480095\n",
            "Using new method with bm25- k: 4 nDCG: 0.47243748887717585\n",
            "Using new method with bm25- k: 5 nDCG: 0.4652101496209595\n",
            "Using new method with bm25- k: 6 nDCG: 0.467690124687844\n",
            "Using new method with bm25- k: 7 nDCG: 0.47173822174946056\n"
          ],
          "name": "stdout"
        }
      ]
    },
    {
      "cell_type": "code",
      "metadata": {
        "colab": {
          "base_uri": "https://localhost:8080/",
          "height": 295
        },
        "id": "Fjp2h-LfggDb",
        "cellView": "form",
        "outputId": "cba927f0-ea35-4e62-b3f8-a2943f89b761"
      },
      "source": [
        "#@title nDCG comparison visualization\n",
        "import matplotlib.pyplot as plt\n",
        "\n",
        "plt.plot([i for i in range(1,8) ], [w[1] for w in r1], label = \"LSA\")\n",
        "plt.plot([i for i in range(1,8) ], [w[1] for w in r2], label = \"Tfidf\")\n",
        "plt.plot([i for i in range(1,8) ], [w[1] for w in r3], label = \"LSA + query expansion\")\n",
        "plt.plot([i for i in range(1,8) ], [w[1] for w in r4], label = \"BM25\")\n",
        "plt.plot([i for i in range(1,8) ], [w[1] for w in r5], label = \"BM25 + LSA\")\n",
        "plt.xlabel('k')\n",
        "plt.ylabel('nDCG')\n",
        "plt.title('Comparison of nDCG scores for the new method and old method ')\n",
        "plt.legend()\n",
        "plt.show()\n"
      ],
      "execution_count": 116,
      "outputs": [
        {
          "output_type": "display_data",
          "data": {
            "image/png": "[encoded data removed]",
            "text/plain": [
              "<Figure size 432x288 with 1 Axes>"
            ]
          },
          "metadata": {
            "tags": [],
            "needs_background": "light"
          }
        }
      ]
    },
    {
      "cell_type": "code",
      "metadata": {
        "colab": {
          "base_uri": "https://localhost:8080/",
          "height": 295
        },
        "id": "ovY4eVSHk9Ht",
        "cellView": "form",
        "outputId": "57b5bc42-03db-4e1e-8dc1-1297ad23dabe"
      },
      "source": [
        "#@title Mean Precision comparison visualization\n",
        "import matplotlib.pyplot as plt\n",
        "\n",
        "plt.plot([i for i in range(1,8) ], [w[2] for w in r1], label = \"LSA\")\n",
        "plt.plot([i for i in range(1,8) ], [w[2] for w in r2], label = \"Tfidf\")\n",
        "plt.plot([i for i in range(1,8) ], [w[2] for w in r3], label = \"LSA + query expansion\")\n",
        "plt.plot([i for i in range(1,8) ], [w[2] for w in r4], label = \"BM25\")\n",
        "plt.plot([i for i in range(1,8) ], [w[2] for w in r5], label = \"BM25+LSA\")\n",
        "plt.xlabel('k')\n",
        "plt.ylabel('Mean Precision')\n",
        "plt.title('Comparison of Mean Precision for the new method and old method ')\n",
        "plt.legend()\n",
        "plt.show()\n"
      ],
      "execution_count": 117,
      "outputs": [
        {
          "output_type": "display_data",
          "data": {
            "image/png": "[encoded data removed]",
            "text/plain": [
              "<Figure size 432x288 with 1 Axes>"
            ]
          },
          "metadata": {
            "tags": [],
            "needs_background": "light"
          }
        }
      ]
    },
    {
      "cell_type": "code",
      "metadata": {
        "colab": {
          "base_uri": "https://localhost:8080/",
          "height": 295
        },
        "id": "lWfhbEITlDtS",
        "cellView": "form",
        "outputId": "b932292b-115a-4639-a037-5b6789b01cd5"
      },
      "source": [
        "#@title Mean Recall comparison\n",
        "import matplotlib.pyplot as plt\n",
        "\n",
        "plt.plot([i for i in range(1,8) ], [w[3] for w in r1], label = \"LSA\")\n",
        "plt.plot([i for i in range(1,8) ], [w[3] for w in r2], label = \"Tfidf\")\n",
        "plt.plot([i for i in range(1,8) ], [w[3] for w in r3], label = \"LSA + query expansion\")\n",
        "plt.plot([i for i in range(1,8) ], [w[3] for w in r4], label = \"BM25\")\n",
        "plt.plot([i for i in range(1,8) ], [w[3] for w in r5], label = \"BM25+LSA\")\n",
        "plt.xlabel('k')\n",
        "plt.ylabel('Mean Recall')\n",
        "plt.title('Comparison of Mean Recall for the new method and old method ')\n",
        "plt.legend()\n",
        "plt.show()\n"
      ],
      "execution_count": 118,
      "outputs": [
        {
          "output_type": "display_data",
          "data": {
            "image/png": "[encoded data removed]",
            "text/plain": [
              "<Figure size 432x288 with 1 Axes>"
            ]
          },
          "metadata": {
            "tags": [],
            "needs_background": "light"
          }
        }
      ]
    },
    {
      "cell_type": "code",
      "metadata": {
        "colab": {
          "base_uri": "https://localhost:8080/",
          "height": 295
        },
        "id": "ysLfRC1flZGV",
        "cellView": "form",
        "outputId": "baa4703c-b567-4005-ed6f-7e5bc29a981a"
      },
      "source": [
        "#@title Mean Fscore\n",
        "import matplotlib.pyplot as plt\n",
        "\n",
        "plt.plot([i for i in range(1,8) ], [w[4] for w in r1], label = \"LSA\")\n",
        "plt.plot([i for i in range(1,8) ], [w[4] for w in r2], label = \"Tfidf\")\n",
        "plt.plot([i for i in range(1,8) ], [w[4] for w in r3], label = \"LSA + query expansion\")\n",
        "plt.plot([i for i in range(1,8) ], [w[4] for w in r4], label = \"BM25\")\n",
        "plt.plot([i for i in range(1,8) ], [w[4] for w in r5], label = \"BM25+LSA\")\n",
        "plt.xlabel('k')\n",
        "plt.ylabel('Mean Fscore')\n",
        "plt.title('Comparison of Mean Fscore for the new method and old method ')\n",
        "plt.legend()\n",
        "plt.show()\n"
      ],
      "execution_count": 119,
      "outputs": [
        {
          "output_type": "display_data",
          "data": {
            "image/png": "[encoded data removed]",
            "text/plain": [
              "<Figure size 432x288 with 1 Axes>"
            ]
          },
          "metadata": {
            "tags": [],
            "needs_background": "light"
          }
        }
      ]
    },
    {
      "cell_type": "code",
      "metadata": {
        "colab": {
          "base_uri": "https://localhost:8080/"
        },
        "id": "uTAsK6xwgnsV",
        "outputId": "60c4ac68-311a-4528-95f0-40ac72177815"
      },
      "source": [
        "print('Hypothesis testing for LSA vs Tfidf using nDCG metric')\n",
        "d_x = [q[1] for q in r1[3][0]]\n",
        "d_y = [q[1] for q in r2[3][0]]\n",
        "test(d_x,d_y,0.10)"
      ],
      "execution_count": 120,
      "outputs": [
        {
          "output_type": "stream",
          "text": [
            "Hypothesis testing for LSA vs Tfidf using nDCG metric\n",
            "x-new method in this test, y- old method(Tfidf)\n",
            "null hypothesis: mean of x is less than or equal to mean of y\n",
            "alternate hypothesis: mean of x is greater than mean of y\n",
            "x_:0.4715056073511886 y_:0.4529293199324901 sx :0.012092452176634547 sy: 0.011001422328209857 sp: 0.011546937252422203\n",
            "Test statistic:  0.5466703494795963\n",
            "t-alpha:  1.3042302030325095\n",
            "p-value:  0.2939005842291337\n",
            "alpha:  0.1\n",
            "Conclusion: No evidence for proving new method is better\n"
          ],
          "name": "stdout"
        }
      ]
    },
    {
      "cell_type": "code",
      "metadata": {
        "colab": {
          "base_uri": "https://localhost:8080/"
        },
        "id": "e3Z9LISbipqV",
        "outputId": "1bd69a6b-fc29-47d1-8680-a8c8f7d1d675"
      },
      "source": [
        "print('Hypothesis testing for LSA + Query exapsnion vs Tfidf using nDCG metric')\n",
        "d_x = [q[1] for q in r3[3][0]]\n",
        "d_y = [q[1] for q in r2[3][0]]\n",
        "test(d_x,d_y,0.10)"
      ],
      "execution_count": 121,
      "outputs": [
        {
          "output_type": "stream",
          "text": [
            "Hypothesis testing for LSA + Query exapsnion vs Tfidf using nDCG metric\n",
            "x-new method in this test, y- old method(Tfidf)\n",
            "null hypothesis: mean of x is less than or equal to mean of y\n",
            "alternate hypothesis: mean of x is greater than mean of y\n",
            "x_:0.4754642875393248 y_:0.4529293199324901 sx :0.011447064180486664 sy: 0.011001422328209857 sp: 0.011224243254348261\n",
            "Test statistic:  0.6726333602620261\n",
            "t-alpha:  1.3042302030325095\n",
            "p-value:  0.2526252512225413\n",
            "alpha:  0.1\n",
            "Conclusion: No evidence for proving new method is better\n"
          ],
          "name": "stdout"
        }
      ]
    },
    {
      "cell_type": "code",
      "metadata": {
        "colab": {
          "base_uri": "https://localhost:8080/"
        },
        "id": "Q-PDdm6DhsN6",
        "outputId": "bfe32e04-08e5-4b8b-8a72-f88b9185fb62"
      },
      "source": [
        "print('Hypothesis testing for BM25 vs Tfidf using nDCG metric')\n",
        "d_x = [q[1] for q in r4[3][0]]\n",
        "d_y = [q[1] for q in r2[3][0]]\n",
        "test(d_x,d_y,0.10)"
      ],
      "execution_count": 122,
      "outputs": [
        {
          "output_type": "stream",
          "text": [
            "Hypothesis testing for BM25 vs Tfidf using nDCG metric\n",
            "x-new method in this test, y- old method(Tfidf)\n",
            "null hypothesis: mean of x is less than or equal to mean of y\n",
            "alternate hypothesis: mean of x is greater than mean of y\n",
            "x_:0.48503659983744274 y_:0.4529293199324901 sx :0.008864599374968625 sy: 0.011001422328209857 sp: 0.009933010851589241\n",
            "Test statistic:  1.0187392973917773\n",
            "t-alpha:  1.3042302030325095\n",
            "p-value:  0.15738461066678688\n",
            "alpha:  0.1\n",
            "Conclusion: No evidence for proving new method is better\n"
          ],
          "name": "stdout"
        }
      ]
    },
    {
      "cell_type": "code",
      "metadata": {
        "colab": {
          "base_uri": "https://localhost:8080/"
        },
        "id": "jbskmY-1h4R5",
        "outputId": "daead45a-93cd-4889-a470-157f22bc50c7"
      },
      "source": [
        "print('Hypothesis testing for BM25+LSA vs Tfidf using nDCG metric')\n",
        "d_x = [q[1] for q in r5[3][0]]\n",
        "d_y = [q[1] for q in r2[3][0]]\n",
        "test(d_x,d_y,0.10)"
      ],
      "execution_count": 123,
      "outputs": [
        {
          "output_type": "stream",
          "text": [
            "Hypothesis testing for BM25+LSA vs Tfidf using nDCG metric\n",
            "x-new method in this test, y- old method(Tfidf)\n",
            "null hypothesis: mean of x is less than or equal to mean of y\n",
            "alternate hypothesis: mean of x is greater than mean of y\n",
            "x_:0.5159172339733378 y_:0.4529293199324901 sx :0.008051322771613618 sy: 0.011001422328209857 sp: 0.009526372549911738\n",
            "Test statistic:  2.040767105317986\n",
            "t-alpha:  1.3042302030325095\n",
            "p-value:  0.024132714791950227\n",
            "alpha:  0.1\n",
            "Conclusion: mean of x is greater than mean of y (new method is better than old method)\n"
          ],
          "name": "stdout"
        }
      ]
    },
    {
      "cell_type": "code",
      "metadata": {
        "colab": {
          "base_uri": "https://localhost:8080/"
        },
        "id": "sBMKfye-iFrg",
        "outputId": "f5136d35-784b-40bd-b896-0e95c6fac0e7"
      },
      "source": [
        "print('Hypothesis testing for LSA vs Tfidf using Mean precision metric')\n",
        "d_x = [q[2] for q in r1[3][0]]\n",
        "d_y = [q[2] for q in r2[3][0]]\n",
        "test(d_x,d_y,0.10)"
      ],
      "execution_count": 124,
      "outputs": [
        {
          "output_type": "stream",
          "text": [
            "Hypothesis testing for LSA vs Tfidf using Mean precision metric\n",
            "x-new method in this test, y- old method(Tfidf)\n",
            "null hypothesis: mean of x is less than or equal to mean of y\n",
            "alternate hypothesis: mean of x is greater than mean of y\n",
            "x_:0.47375 y_:0.45625 sx :0.010623355263157894 sy: 0.01183388157894737 sp: 0.011228618421052631\n",
            "Test statistic:  0.5222457169172727\n",
            "t-alpha:  1.3042302030325095\n",
            "p-value:  0.3022653208633004\n",
            "alpha:  0.1\n",
            "Conclusion: No evidence for proving new method is better\n"
          ],
          "name": "stdout"
        }
      ]
    },
    {
      "cell_type": "code",
      "metadata": {
        "colab": {
          "base_uri": "https://localhost:8080/"
        },
        "id": "kPfWxe7Oiqyd",
        "outputId": "4d4225dd-4668-40c0-f785-b088ad12f4ec"
      },
      "source": [
        "print('Hypothesis testing for LSA + Query Expansion vs Tfidf using Mean Precision metric')\n",
        "d_x = [q[2] for q in r3[3][0]]\n",
        "d_y = [q[2] for q in r2[3][0]]\n",
        "test(d_x,d_y,0.10)"
      ],
      "execution_count": 125,
      "outputs": [
        {
          "output_type": "stream",
          "text": [
            "Hypothesis testing for LSA + Query Expansion vs Tfidf using Mean Precision metric\n",
            "x-new method in this test, y- old method(Tfidf)\n",
            "null hypothesis: mean of x is less than or equal to mean of y\n",
            "alternate hypothesis: mean of x is greater than mean of y\n",
            "x_:0.47375000000000006 y_:0.45625 sx :0.009833881578947368 sy: 0.01183388157894737 sp: 0.01083388157894737\n",
            "Test statistic:  0.5316747145815764\n",
            "t-alpha:  1.3042302030325095\n",
            "p-value:  0.29902299398524934\n",
            "alpha:  0.1\n",
            "Conclusion: No evidence for proving new method is better\n"
          ],
          "name": "stdout"
        }
      ]
    },
    {
      "cell_type": "code",
      "metadata": {
        "colab": {
          "base_uri": "https://localhost:8080/"
        },
        "id": "Nz5Sr5vaiJpl",
        "outputId": "a252bad9-f4dc-4ea9-973a-0ce72aeaa1b9"
      },
      "source": [
        "print('Hypothesis testing for BM25 vs Tfidf using Mean Precision metric')\n",
        "d_x = [q[2] for q in r4[3][0]]\n",
        "d_y = [q[2] for q in r2[3][0]]\n",
        "test(d_x,d_y,0.10)"
      ],
      "execution_count": 126,
      "outputs": [
        {
          "output_type": "stream",
          "text": [
            "Hypothesis testing for BM25 vs Tfidf using Mean Precision metric\n",
            "x-new method in this test, y- old method(Tfidf)\n",
            "null hypothesis: mean of x is less than or equal to mean of y\n",
            "alternate hypothesis: mean of x is greater than mean of y\n",
            "x_:0.4699999999999999 y_:0.45625 sx :0.010894736842105261 sy: 0.01183388157894737 sp: 0.011364309210526315\n",
            "Test statistic:  0.40787884160855886\n",
            "t-alpha:  1.3042302030325095\n",
            "p-value:  0.3428258368413517\n",
            "alpha:  0.1\n",
            "Conclusion: No evidence for proving new method is better\n"
          ],
          "name": "stdout"
        }
      ]
    },
    {
      "cell_type": "code",
      "metadata": {
        "colab": {
          "base_uri": "https://localhost:8080/"
        },
        "id": "t7NrbRMSiLwf",
        "outputId": "7294fb6d-b01e-43c9-81f3-98a809efe56e"
      },
      "source": [
        "print('Hypothesis testing for BM25+LSA vs Tfidf using Mean Precision metric')\n",
        "d_x = [q[2] for q in r5[3][0]]\n",
        "d_y = [q[2] for q in r2[3][0]]\n",
        "test(d_x,d_y,0.10)"
      ],
      "execution_count": 127,
      "outputs": [
        {
          "output_type": "stream",
          "text": [
            "Hypothesis testing for BM25+LSA vs Tfidf using Mean Precision metric\n",
            "x-new method in this test, y- old method(Tfidf)\n",
            "null hypothesis: mean of x is less than or equal to mean of y\n",
            "alternate hypothesis: mean of x is greater than mean of y\n",
            "x_:0.5125 y_:0.45625 sx :0.007927631578947367 sy: 0.01183388157894737 sp: 0.009880756578947368\n",
            "Test statistic:  1.7894823807490345\n",
            "t-alpha:  1.3042302030325095\n",
            "p-value:  0.04075479618910216\n",
            "alpha:  0.1\n",
            "Conclusion: mean of x is greater than mean of y (new method is better than old method)\n"
          ],
          "name": "stdout"
        }
      ]
    },
    {
      "cell_type": "code",
      "metadata": {
        "colab": {
          "base_uri": "https://localhost:8080/"
        },
        "id": "VNrZNYhukQ9q",
        "outputId": "97d7fb59-53e9-47ea-fbb1-d1e509c555ef"
      },
      "source": [
        "print('Hypothesis testing for LSA vs Tfidf using Mean Recall metric')\n",
        "d_x = [q[3] for q in r1[3][0]]\n",
        "d_y = [q[3] for q in r2[3][0]]\n",
        "test(d_x,d_y,0.10)"
      ],
      "execution_count": 128,
      "outputs": [
        {
          "output_type": "stream",
          "text": [
            "Hypothesis testing for LSA vs Tfidf using Mean Recall metric\n",
            "x-new method in this test, y- old method(Tfidf)\n",
            "null hypothesis: mean of x is less than or equal to mean of y\n",
            "alternate hypothesis: mean of x is greater than mean of y\n",
            "x_:0.2950939284993798 y_:0.29228076656552826 sx :0.007657658823199532 sy: 0.008283757156909804 sp: 0.007970707990054667\n",
            "Test statistic:  0.09964288255963068\n",
            "t-alpha:  1.3042302030325095\n",
            "p-value:  0.46057583894479004\n",
            "alpha:  0.1\n",
            "Conclusion: No evidence for proving new method is better\n"
          ],
          "name": "stdout"
        }
      ]
    },
    {
      "cell_type": "code",
      "metadata": {
        "colab": {
          "base_uri": "https://localhost:8080/"
        },
        "id": "yaHwsyhnkbhI",
        "outputId": "7bf1c17c-a4b5-4f79-ab66-21deaf473352"
      },
      "source": [
        "print('Hypothesis testing for LSA + Query Expansion vs Tfidf using Mean Recall metric')\n",
        "d_x = [q[3] for q in r3[3][0]]\n",
        "d_y = [q[3] for q in r2[3][0]]\n",
        "test(d_x,d_y,0.10)"
      ],
      "execution_count": 129,
      "outputs": [
        {
          "output_type": "stream",
          "text": [
            "Hypothesis testing for LSA + Query Expansion vs Tfidf using Mean Recall metric\n",
            "x-new method in this test, y- old method(Tfidf)\n",
            "null hypothesis: mean of x is less than or equal to mean of y\n",
            "alternate hypothesis: mean of x is greater than mean of y\n",
            "x_:0.30028647410736664 y_:0.29228076656552826 sx :0.008484811384136141 sy: 0.008283757156909804 sp: 0.008384284270522971\n",
            "Test statistic:  0.2764819115187214\n",
            "t-alpha:  1.3042302030325095\n",
            "p-value:  0.3918381177799328\n",
            "alpha:  0.1\n",
            "Conclusion: No evidence for proving new method is better\n"
          ],
          "name": "stdout"
        }
      ]
    },
    {
      "cell_type": "code",
      "metadata": {
        "colab": {
          "base_uri": "https://localhost:8080/"
        },
        "id": "PtpGq3YRkg34",
        "outputId": "db381ed5-4df5-4ae4-ebfa-8d6dbd3bb4d4"
      },
      "source": [
        "print('Hypothesis testing for BM25 vs Tfidf using Mean Recall metric')\n",
        "d_x = [q[3] for q in r4[3][0]]\n",
        "d_y = [q[3] for q in r2[3][0]]\n",
        "test(d_x,d_y,0.10)"
      ],
      "execution_count": 130,
      "outputs": [
        {
          "output_type": "stream",
          "text": [
            "Hypothesis testing for BM25 vs Tfidf using Mean Recall metric\n",
            "x-new method in this test, y- old method(Tfidf)\n",
            "null hypothesis: mean of x is less than or equal to mean of y\n",
            "alternate hypothesis: mean of x is greater than mean of y\n",
            "x_:0.30188562985358114 y_:0.29228076656552826 sx :0.00808946969840244 sy: 0.008283757156909804 sp: 0.008186613427656121\n",
            "Test statistic:  0.3356904961251618\n",
            "t-alpha:  1.3042302030325095\n",
            "p-value:  0.36947535044218993\n",
            "alpha:  0.1\n",
            "Conclusion: No evidence for proving new method is better\n"
          ],
          "name": "stdout"
        }
      ]
    },
    {
      "cell_type": "code",
      "metadata": {
        "colab": {
          "base_uri": "https://localhost:8080/"
        },
        "id": "b1LUDmQMkkI6",
        "outputId": "6683b58c-6207-46f4-ed8b-6d9c7030c124"
      },
      "source": [
        "print('Hypothesis testing for BM25+LSA vs Tfidf using Mean Recall metric')\n",
        "d_x = [q[3] for q in r5[3][0]]\n",
        "d_y = [q[3] for q in r2[3][0]]\n",
        "test(d_x,d_y,0.10)"
      ],
      "execution_count": 131,
      "outputs": [
        {
          "output_type": "stream",
          "text": [
            "Hypothesis testing for BM25+LSA vs Tfidf using Mean Recall metric\n",
            "x-new method in this test, y- old method(Tfidf)\n",
            "null hypothesis: mean of x is less than or equal to mean of y\n",
            "alternate hypothesis: mean of x is greater than mean of y\n",
            "x_:0.3278776031580545 y_:0.29228076656552826 sx :0.007101899174479369 sy: 0.008283757156909804 sp: 0.007692828165694586\n",
            "Test statistic:  1.2834187774754215\n",
            "t-alpha:  1.3042302030325095\n",
            "p-value:  0.10355858953257635\n",
            "alpha:  0.1\n",
            "Conclusion: No evidence for proving new method is better\n"
          ],
          "name": "stdout"
        }
      ]
    },
    {
      "cell_type": "code",
      "metadata": {
        "colab": {
          "base_uri": "https://localhost:8080/"
        },
        "id": "M2CkxMyOlL9p",
        "outputId": "4cdfeee4-e11e-41a7-ce3d-010dfa4fe546"
      },
      "source": [
        "print('Hypothesis testing for LSA vs Tfidf using Mean F-score metric')\n",
        "d_x = [q[4] for q in r1[3][0]]\n",
        "d_y = [q[4] for q in r2[3][0]]\n",
        "test(d_x,d_y,0.10)"
      ],
      "execution_count": 132,
      "outputs": [
        {
          "output_type": "stream",
          "text": [
            "Hypothesis testing for LSA vs Tfidf using Mean F-score metric\n",
            "x-new method in this test, y- old method(Tfidf)\n",
            "null hypothesis: mean of x is less than or equal to mean of y\n",
            "alternate hypothesis: mean of x is greater than mean of y\n",
            "x_:0.3387807748584731 y_:0.33100601541598923 sx :0.007454123644492121 sy: 0.008343585799317679 sp: 0.0078988547219049\n",
            "Test statistic:  0.27663358015638384\n",
            "t-alpha:  1.3042302030325095\n",
            "p-value:  0.39178031872734476\n",
            "alpha:  0.1\n",
            "Conclusion: No evidence for proving new method is better\n"
          ],
          "name": "stdout"
        }
      ]
    },
    {
      "cell_type": "code",
      "metadata": {
        "colab": {
          "base_uri": "https://localhost:8080/"
        },
        "id": "wXXI17ZwlMpu",
        "outputId": "340a1da4-cf2a-4e5f-f4d1-eb98c5e84f19"
      },
      "source": [
        "print('Hypothesis testing for LSA + Query Expansion vs Tfidf using Mean F-score metric')\n",
        "d_x = [q[4] for q in r3[3][0]]\n",
        "d_y = [q[4] for q in r2[3][0]]\n",
        "test(d_x,d_y,0.10)"
      ],
      "execution_count": 133,
      "outputs": [
        {
          "output_type": "stream",
          "text": [
            "Hypothesis testing for LSA + Query Expansion vs Tfidf using Mean F-score metric\n",
            "x-new method in this test, y- old method(Tfidf)\n",
            "null hypothesis: mean of x is less than or equal to mean of y\n",
            "alternate hypothesis: mean of x is greater than mean of y\n",
            "x_:0.34273442415035776 y_:0.33100601541598923 sx :0.007777692558829495 sy: 0.008343585799317679 sp: 0.008060639179073587\n",
            "Test statistic:  0.41309919829136843\n",
            "t-alpha:  1.3042302030325095\n",
            "p-value:  0.34092789233296195\n",
            "alpha:  0.1\n",
            "Conclusion: No evidence for proving new method is better\n"
          ],
          "name": "stdout"
        }
      ]
    },
    {
      "cell_type": "code",
      "metadata": {
        "colab": {
          "base_uri": "https://localhost:8080/"
        },
        "id": "Lyxg0k66lQTN",
        "outputId": "5cbbe9c6-b431-4cf3-9843-34d88415d677"
      },
      "source": [
        "print('Hypothesis testing for BM25 vs Tfidf using Mean F-score  metric')\n",
        "d_x = [q[4] for q in r4[3][0]]\n",
        "d_y = [q[4] for q in r2[3][0]]\n",
        "test(d_x,d_y,0.10)"
      ],
      "execution_count": 134,
      "outputs": [
        {
          "output_type": "stream",
          "text": [
            "Hypothesis testing for BM25 vs Tfidf using Mean F-score  metric\n",
            "x-new method in this test, y- old method(Tfidf)\n",
            "null hypothesis: mean of x is less than or equal to mean of y\n",
            "alternate hypothesis: mean of x is greater than mean of y\n",
            "x_:0.3431563886400467 y_:0.33100601541598923 sx :0.008035718980488098 sy: 0.008343585799317679 sp: 0.008189652389902888\n",
            "Test statistic:  0.42457741069146276\n",
            "t-alpha:  1.3042302030325095\n",
            "p-value:  0.3367695540229121\n",
            "alpha:  0.1\n",
            "Conclusion: No evidence for proving new method is better\n"
          ],
          "name": "stdout"
        }
      ]
    },
    {
      "cell_type": "code",
      "metadata": {
        "colab": {
          "base_uri": "https://localhost:8080/"
        },
        "id": "Z97qYvYslQ1n",
        "outputId": "8b92ec0c-f39a-45c6-94a2-d9d196034e23"
      },
      "source": [
        "print('Hypothesis testing for BM25+LSA vs Tfidf using Mean F-score metric')\n",
        "d_x = [q[4] for q in r5[3][0]]\n",
        "d_y = [q[4] for q in r2[3][0]]\n",
        "test(d_x,d_y,0.10)"
      ],
      "execution_count": 135,
      "outputs": [
        {
          "output_type": "stream",
          "text": [
            "Hypothesis testing for BM25+LSA vs Tfidf using Mean F-score metric\n",
            "x-new method in this test, y- old method(Tfidf)\n",
            "null hypothesis: mean of x is less than or equal to mean of y\n",
            "alternate hypothesis: mean of x is greater than mean of y\n",
            "x_:0.3727404511122671 y_:0.33100601541598923 sx :0.006420867163414834 sy: 0.008343585799317679 sp: 0.007382226481366257\n",
            "Test statistic:  1.5360341213896893\n",
            "t-alpha:  1.3042302030325095\n",
            "p-value:  0.0664077294106562\n",
            "alpha:  0.1\n",
            "Conclusion: mean of x is greater than mean of y (new method is better than old method)\n"
          ],
          "name": "stdout"
        }
      ]
    },
    {
      "cell_type": "code",
      "metadata": {
        "colab": {
          "base_uri": "https://localhost:8080/"
        },
        "id": "U1-EIqZU59Fx",
        "outputId": "cd37a001-b50e-4619-a080-6712b6520d6b"
      },
      "source": [
        "#update these values from the ndcdg score of LSA and BM25 at k=3\n",
        "#a is the ndcdg score of LSA at k=3\n",
        "#b is the ndcdg score of BM25 at k=3\n",
        "a,b = 41.67,47.74\n",
        "alpha = a/(a+b) \n",
        "beta = 1-alpha\n",
        "print('From the above experiments we get: ')\n",
        "print('alpha (Weight for LSA) : ',alpha)\n",
        "print('beta (Weight for BM25): ',beta)"
      ],
      "execution_count": 136,
      "outputs": [
        {
          "output_type": "stream",
          "text": [
            "From the above experiments we get: \n",
            "alpha (Weight for LSA) :  0.46605525109048207\n",
            "beta (Weight for BM25):  0.5339447489095179\n"
          ],
          "name": "stdout"
        }
      ]
    }
  ]
}